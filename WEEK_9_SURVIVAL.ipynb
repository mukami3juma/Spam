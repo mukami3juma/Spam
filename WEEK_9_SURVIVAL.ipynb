{
  "nbformat": 4,
  "nbformat_minor": 0,
  "metadata": {
    "colab": {
      "name": "WEEK 9_SURVIVAL.ipynb",
      "provenance": [],
      "toc_visible": true,
      "authorship_tag": "ABX9TyM6/5Pyp4wUEYWcEZC7xu6e",
      "include_colab_link": true
    },
    "kernelspec": {
      "name": "python3",
      "display_name": "Python 3"
    },
    "language_info": {
      "name": "python"
    }
  },
  "cells": [
    {
      "cell_type": "markdown",
      "metadata": {
        "id": "view-in-github",
        "colab_type": "text"
      },
      "source": [
        "<a href=\"https://colab.research.google.com/github/mukami3juma/Spam/blob/main/WEEK_9_SURVIVAL.ipynb\" target=\"_parent\"><img src=\"https://colab.research.google.com/assets/colab-badge.svg\" alt=\"Open In Colab\"/></a>"
      ]
    },
    {
      "cell_type": "markdown",
      "source": [
        "# DATASET 1 PROJECT(SPAM)"
      ],
      "metadata": {
        "id": "c3k84GDwgrPH"
      }
    },
    {
      "cell_type": "markdown",
      "source": [
        "## 1. Defining the Question"
      ],
      "metadata": {
        "id": "r1Cfk8m1jfwV"
      }
    },
    {
      "cell_type": "markdown",
      "source": [
        "### a) Specifying the Question"
      ],
      "metadata": {
        "id": "J8KWcXBhji_8"
      }
    },
    {
      "cell_type": "markdown",
      "source": [
        "We would like to have a predictive modeling solution to a problem that determines whether a passenger survived or not based on certain diagnostic measurements included in the provided dataset."
      ],
      "metadata": {
        "id": "UVj8M0StODzv"
      }
    },
    {
      "cell_type": "markdown",
      "source": [
        "### b) Defining the Metric for Success"
      ],
      "metadata": {
        "id": "E4ojIUcVjoW3"
      }
    },
    {
      "cell_type": "markdown",
      "source": [
        "The model will be considered a success if it obtains an accuracy between 80%-90% as this range doesnt reflect under or overfitting."
      ],
      "metadata": {
        "id": "N1bhRMktQdtd"
      }
    },
    {
      "cell_type": "markdown",
      "source": [
        "### c) Understanding the context "
      ],
      "metadata": {
        "id": "gHUc8oINjsWY"
      }
    },
    {
      "cell_type": "markdown",
      "source": [
        "The sinking of the Titanic is one of the most infamous shipwrecks in history.\n",
        "\n",
        "On April 15, 1912, during her maiden voyage, the widely considered “unsinkable” RMS Titanic sank after colliding with an iceberg. Unfortunately, there weren’t enough lifeboats for everyone onboard, resulting in the death of 1502 out of 2224 passengers and crew.\n",
        "\n",
        "While there was some element of luck involved in surviving, it seems some groups of people were more likely to survive than others.\n",
        "\n",
        "We are therefore going to build a predictive classification model that determines the people that were more likely to survive based on passenger data (ie name, age, gender, socio-economic class, etc)."
      ],
      "metadata": {
        "id": "s6tHiET8SDbA"
      }
    },
    {
      "cell_type": "markdown",
      "source": [
        "### d) Recording the Experimental Design"
      ],
      "metadata": {
        "id": "X7lZy7jIjxN7"
      }
    },
    {
      "cell_type": "markdown",
      "source": [
        "In order to work on the above problem we will:\n",
        "1.) Randomly partition each dataset into two parts i.e 80 - 20  sets.\n",
        "2.) For this dataset, because we don't have the label for the test set, we will use the train set to create train and test data (i.e. splitting further), then perform K-nearest neighbor classification\n",
        "3.) Compute the accuracy (percentage of correct classification)\n",
        "4.) Report the confusion matrix of the classifier.\n",
        "5.) Repeat step 1 and step 2 twice, each time splitting the datasets differently i.e. 70-30, 60-40, then note the outcomes of our modeling.\n",
        "6.) Suggest and apply at least one of the optimization techniques learnt\n",
        "7.) Provide further recommendations to improve both classifiers."
      ],
      "metadata": {
        "id": "3MaG2EbyR4Tz"
      }
    },
    {
      "cell_type": "markdown",
      "source": [
        "### e) Data Relevance"
      ],
      "metadata": {
        "id": "N0QkFBVhj1tk"
      }
    },
    {
      "cell_type": "markdown",
      "source": [
        "The relavance of our data is backed by the titanic dataset containing features that could render a passenger a survivor or not. It includes https://www.kaggle.com/c/titanic/data showing the aforementioned details and revealing that our dataset is sufficient and is from a reliable source."
      ],
      "metadata": {
        "id": "6QS6o9JySXyM"
      }
    },
    {
      "cell_type": "markdown",
      "source": [
        "## 2. Reading the Data"
      ],
      "metadata": {
        "id": "yMTZRYw-GQ0z"
      }
    },
    {
      "cell_type": "code",
      "source": [
        "import pandas as pd\n",
        "import numpy as np\n",
        "import matplotlib.pyplot as plt\n",
        "import seaborn as sns\n"
      ],
      "metadata": {
        "id": "p9h8XGzWSLrH"
      },
      "execution_count": 95,
      "outputs": []
    },
    {
      "cell_type": "code",
      "execution_count": 96,
      "metadata": {
        "id": "LMnjLmssQ1J7",
        "colab": {
          "base_uri": "https://localhost:8080/",
          "height": 206
        },
        "outputId": "cb6d66f8-4f89-44d8-fcec-de5b53bbf52e"
      },
      "outputs": [
        {
          "output_type": "execute_result",
          "data": {
            "text/html": [
              "\n",
              "  <div id=\"df-68b5240b-6a73-42ff-9a89-fd1511dd931d\">\n",
              "    <div class=\"colab-df-container\">\n",
              "      <div>\n",
              "<style scoped>\n",
              "    .dataframe tbody tr th:only-of-type {\n",
              "        vertical-align: middle;\n",
              "    }\n",
              "\n",
              "    .dataframe tbody tr th {\n",
              "        vertical-align: top;\n",
              "    }\n",
              "\n",
              "    .dataframe thead th {\n",
              "        text-align: right;\n",
              "    }\n",
              "</style>\n",
              "<table border=\"1\" class=\"dataframe\">\n",
              "  <thead>\n",
              "    <tr style=\"text-align: right;\">\n",
              "      <th></th>\n",
              "      <th>PassengerId</th>\n",
              "      <th>Survived</th>\n",
              "      <th>Pclass</th>\n",
              "      <th>Name</th>\n",
              "      <th>Sex</th>\n",
              "      <th>Age</th>\n",
              "      <th>SibSp</th>\n",
              "      <th>Parch</th>\n",
              "      <th>Ticket</th>\n",
              "      <th>Fare</th>\n",
              "      <th>Cabin</th>\n",
              "      <th>Embarked</th>\n",
              "    </tr>\n",
              "  </thead>\n",
              "  <tbody>\n",
              "    <tr>\n",
              "      <th>0</th>\n",
              "      <td>1</td>\n",
              "      <td>0</td>\n",
              "      <td>3</td>\n",
              "      <td>Braund, Mr. Owen Harris</td>\n",
              "      <td>male</td>\n",
              "      <td>22.0</td>\n",
              "      <td>1</td>\n",
              "      <td>0</td>\n",
              "      <td>A/5 21171</td>\n",
              "      <td>7.2500</td>\n",
              "      <td>NaN</td>\n",
              "      <td>S</td>\n",
              "    </tr>\n",
              "    <tr>\n",
              "      <th>1</th>\n",
              "      <td>2</td>\n",
              "      <td>1</td>\n",
              "      <td>1</td>\n",
              "      <td>Cumings, Mrs. John Bradley (Florence Briggs Th...</td>\n",
              "      <td>female</td>\n",
              "      <td>38.0</td>\n",
              "      <td>1</td>\n",
              "      <td>0</td>\n",
              "      <td>PC 17599</td>\n",
              "      <td>71.2833</td>\n",
              "      <td>C85</td>\n",
              "      <td>C</td>\n",
              "    </tr>\n",
              "    <tr>\n",
              "      <th>2</th>\n",
              "      <td>3</td>\n",
              "      <td>1</td>\n",
              "      <td>3</td>\n",
              "      <td>Heikkinen, Miss. Laina</td>\n",
              "      <td>female</td>\n",
              "      <td>26.0</td>\n",
              "      <td>0</td>\n",
              "      <td>0</td>\n",
              "      <td>STON/O2. 3101282</td>\n",
              "      <td>7.9250</td>\n",
              "      <td>NaN</td>\n",
              "      <td>S</td>\n",
              "    </tr>\n",
              "    <tr>\n",
              "      <th>3</th>\n",
              "      <td>4</td>\n",
              "      <td>1</td>\n",
              "      <td>1</td>\n",
              "      <td>Futrelle, Mrs. Jacques Heath (Lily May Peel)</td>\n",
              "      <td>female</td>\n",
              "      <td>35.0</td>\n",
              "      <td>1</td>\n",
              "      <td>0</td>\n",
              "      <td>113803</td>\n",
              "      <td>53.1000</td>\n",
              "      <td>C123</td>\n",
              "      <td>S</td>\n",
              "    </tr>\n",
              "    <tr>\n",
              "      <th>4</th>\n",
              "      <td>5</td>\n",
              "      <td>0</td>\n",
              "      <td>3</td>\n",
              "      <td>Allen, Mr. William Henry</td>\n",
              "      <td>male</td>\n",
              "      <td>35.0</td>\n",
              "      <td>0</td>\n",
              "      <td>0</td>\n",
              "      <td>373450</td>\n",
              "      <td>8.0500</td>\n",
              "      <td>NaN</td>\n",
              "      <td>S</td>\n",
              "    </tr>\n",
              "  </tbody>\n",
              "</table>\n",
              "</div>\n",
              "      <button class=\"colab-df-convert\" onclick=\"convertToInteractive('df-68b5240b-6a73-42ff-9a89-fd1511dd931d')\"\n",
              "              title=\"Convert this dataframe to an interactive table.\"\n",
              "              style=\"display:none;\">\n",
              "        \n",
              "  <svg xmlns=\"http://www.w3.org/2000/svg\" height=\"24px\"viewBox=\"0 0 24 24\"\n",
              "       width=\"24px\">\n",
              "    <path d=\"M0 0h24v24H0V0z\" fill=\"none\"/>\n",
              "    <path d=\"M18.56 5.44l.94 2.06.94-2.06 2.06-.94-2.06-.94-.94-2.06-.94 2.06-2.06.94zm-11 1L8.5 8.5l.94-2.06 2.06-.94-2.06-.94L8.5 2.5l-.94 2.06-2.06.94zm10 10l.94 2.06.94-2.06 2.06-.94-2.06-.94-.94-2.06-.94 2.06-2.06.94z\"/><path d=\"M17.41 7.96l-1.37-1.37c-.4-.4-.92-.59-1.43-.59-.52 0-1.04.2-1.43.59L10.3 9.45l-7.72 7.72c-.78.78-.78 2.05 0 2.83L4 21.41c.39.39.9.59 1.41.59.51 0 1.02-.2 1.41-.59l7.78-7.78 2.81-2.81c.8-.78.8-2.07 0-2.86zM5.41 20L4 18.59l7.72-7.72 1.47 1.35L5.41 20z\"/>\n",
              "  </svg>\n",
              "      </button>\n",
              "      \n",
              "  <style>\n",
              "    .colab-df-container {\n",
              "      display:flex;\n",
              "      flex-wrap:wrap;\n",
              "      gap: 12px;\n",
              "    }\n",
              "\n",
              "    .colab-df-convert {\n",
              "      background-color: #E8F0FE;\n",
              "      border: none;\n",
              "      border-radius: 50%;\n",
              "      cursor: pointer;\n",
              "      display: none;\n",
              "      fill: #1967D2;\n",
              "      height: 32px;\n",
              "      padding: 0 0 0 0;\n",
              "      width: 32px;\n",
              "    }\n",
              "\n",
              "    .colab-df-convert:hover {\n",
              "      background-color: #E2EBFA;\n",
              "      box-shadow: 0px 1px 2px rgba(60, 64, 67, 0.3), 0px 1px 3px 1px rgba(60, 64, 67, 0.15);\n",
              "      fill: #174EA6;\n",
              "    }\n",
              "\n",
              "    [theme=dark] .colab-df-convert {\n",
              "      background-color: #3B4455;\n",
              "      fill: #D2E3FC;\n",
              "    }\n",
              "\n",
              "    [theme=dark] .colab-df-convert:hover {\n",
              "      background-color: #434B5C;\n",
              "      box-shadow: 0px 1px 3px 1px rgba(0, 0, 0, 0.15);\n",
              "      filter: drop-shadow(0px 1px 2px rgba(0, 0, 0, 0.3));\n",
              "      fill: #FFFFFF;\n",
              "    }\n",
              "  </style>\n",
              "\n",
              "      <script>\n",
              "        const buttonEl =\n",
              "          document.querySelector('#df-68b5240b-6a73-42ff-9a89-fd1511dd931d button.colab-df-convert');\n",
              "        buttonEl.style.display =\n",
              "          google.colab.kernel.accessAllowed ? 'block' : 'none';\n",
              "\n",
              "        async function convertToInteractive(key) {\n",
              "          const element = document.querySelector('#df-68b5240b-6a73-42ff-9a89-fd1511dd931d');\n",
              "          const dataTable =\n",
              "            await google.colab.kernel.invokeFunction('convertToInteractive',\n",
              "                                                     [key], {});\n",
              "          if (!dataTable) return;\n",
              "\n",
              "          const docLinkHtml = 'Like what you see? Visit the ' +\n",
              "            '<a target=\"_blank\" href=https://colab.research.google.com/notebooks/data_table.ipynb>data table notebook</a>'\n",
              "            + ' to learn more about interactive tables.';\n",
              "          element.innerHTML = '';\n",
              "          dataTable['output_type'] = 'display_data';\n",
              "          await google.colab.output.renderOutput(dataTable, element);\n",
              "          const docLink = document.createElement('div');\n",
              "          docLink.innerHTML = docLinkHtml;\n",
              "          element.appendChild(docLink);\n",
              "        }\n",
              "      </script>\n",
              "    </div>\n",
              "  </div>\n",
              "  "
            ],
            "text/plain": [
              "   PassengerId  Survived  Pclass  ...     Fare Cabin  Embarked\n",
              "0            1         0       3  ...   7.2500   NaN         S\n",
              "1            2         1       1  ...  71.2833   C85         C\n",
              "2            3         1       3  ...   7.9250   NaN         S\n",
              "3            4         1       1  ...  53.1000  C123         S\n",
              "4            5         0       3  ...   8.0500   NaN         S\n",
              "\n",
              "[5 rows x 12 columns]"
            ]
          },
          "metadata": {},
          "execution_count": 96
        }
      ],
      "source": [
        "# LOADING DATASET\n",
        "train_df = pd.read_csv('https://archive.org/download/train5_202002/train%20%285%29.csv')\n",
        "train_df.head()"
      ]
    },
    {
      "cell_type": "code",
      "source": [
        "test_df = pd.read_csv('https://archive.org/download/test1_202002/test%20%281%29.csv')\n",
        "test_df.head()"
      ],
      "metadata": {
        "colab": {
          "base_uri": "https://localhost:8080/",
          "height": 206
        },
        "id": "_uql8SFObKx6",
        "outputId": "ea7fbb26-2267-4226-806d-15513da8bdce"
      },
      "execution_count": 97,
      "outputs": [
        {
          "output_type": "execute_result",
          "data": {
            "text/html": [
              "\n",
              "  <div id=\"df-ab638f9b-9d7f-4106-9fae-332a84a92eac\">\n",
              "    <div class=\"colab-df-container\">\n",
              "      <div>\n",
              "<style scoped>\n",
              "    .dataframe tbody tr th:only-of-type {\n",
              "        vertical-align: middle;\n",
              "    }\n",
              "\n",
              "    .dataframe tbody tr th {\n",
              "        vertical-align: top;\n",
              "    }\n",
              "\n",
              "    .dataframe thead th {\n",
              "        text-align: right;\n",
              "    }\n",
              "</style>\n",
              "<table border=\"1\" class=\"dataframe\">\n",
              "  <thead>\n",
              "    <tr style=\"text-align: right;\">\n",
              "      <th></th>\n",
              "      <th>PassengerId</th>\n",
              "      <th>Pclass</th>\n",
              "      <th>Name</th>\n",
              "      <th>Sex</th>\n",
              "      <th>Age</th>\n",
              "      <th>SibSp</th>\n",
              "      <th>Parch</th>\n",
              "      <th>Ticket</th>\n",
              "      <th>Fare</th>\n",
              "      <th>Cabin</th>\n",
              "      <th>Embarked</th>\n",
              "    </tr>\n",
              "  </thead>\n",
              "  <tbody>\n",
              "    <tr>\n",
              "      <th>0</th>\n",
              "      <td>892</td>\n",
              "      <td>3</td>\n",
              "      <td>Kelly, Mr. James</td>\n",
              "      <td>male</td>\n",
              "      <td>34.5</td>\n",
              "      <td>0</td>\n",
              "      <td>0</td>\n",
              "      <td>330911</td>\n",
              "      <td>7.8292</td>\n",
              "      <td>NaN</td>\n",
              "      <td>Q</td>\n",
              "    </tr>\n",
              "    <tr>\n",
              "      <th>1</th>\n",
              "      <td>893</td>\n",
              "      <td>3</td>\n",
              "      <td>Wilkes, Mrs. James (Ellen Needs)</td>\n",
              "      <td>female</td>\n",
              "      <td>47.0</td>\n",
              "      <td>1</td>\n",
              "      <td>0</td>\n",
              "      <td>363272</td>\n",
              "      <td>7.0000</td>\n",
              "      <td>NaN</td>\n",
              "      <td>S</td>\n",
              "    </tr>\n",
              "    <tr>\n",
              "      <th>2</th>\n",
              "      <td>894</td>\n",
              "      <td>2</td>\n",
              "      <td>Myles, Mr. Thomas Francis</td>\n",
              "      <td>male</td>\n",
              "      <td>62.0</td>\n",
              "      <td>0</td>\n",
              "      <td>0</td>\n",
              "      <td>240276</td>\n",
              "      <td>9.6875</td>\n",
              "      <td>NaN</td>\n",
              "      <td>Q</td>\n",
              "    </tr>\n",
              "    <tr>\n",
              "      <th>3</th>\n",
              "      <td>895</td>\n",
              "      <td>3</td>\n",
              "      <td>Wirz, Mr. Albert</td>\n",
              "      <td>male</td>\n",
              "      <td>27.0</td>\n",
              "      <td>0</td>\n",
              "      <td>0</td>\n",
              "      <td>315154</td>\n",
              "      <td>8.6625</td>\n",
              "      <td>NaN</td>\n",
              "      <td>S</td>\n",
              "    </tr>\n",
              "    <tr>\n",
              "      <th>4</th>\n",
              "      <td>896</td>\n",
              "      <td>3</td>\n",
              "      <td>Hirvonen, Mrs. Alexander (Helga E Lindqvist)</td>\n",
              "      <td>female</td>\n",
              "      <td>22.0</td>\n",
              "      <td>1</td>\n",
              "      <td>1</td>\n",
              "      <td>3101298</td>\n",
              "      <td>12.2875</td>\n",
              "      <td>NaN</td>\n",
              "      <td>S</td>\n",
              "    </tr>\n",
              "  </tbody>\n",
              "</table>\n",
              "</div>\n",
              "      <button class=\"colab-df-convert\" onclick=\"convertToInteractive('df-ab638f9b-9d7f-4106-9fae-332a84a92eac')\"\n",
              "              title=\"Convert this dataframe to an interactive table.\"\n",
              "              style=\"display:none;\">\n",
              "        \n",
              "  <svg xmlns=\"http://www.w3.org/2000/svg\" height=\"24px\"viewBox=\"0 0 24 24\"\n",
              "       width=\"24px\">\n",
              "    <path d=\"M0 0h24v24H0V0z\" fill=\"none\"/>\n",
              "    <path d=\"M18.56 5.44l.94 2.06.94-2.06 2.06-.94-2.06-.94-.94-2.06-.94 2.06-2.06.94zm-11 1L8.5 8.5l.94-2.06 2.06-.94-2.06-.94L8.5 2.5l-.94 2.06-2.06.94zm10 10l.94 2.06.94-2.06 2.06-.94-2.06-.94-.94-2.06-.94 2.06-2.06.94z\"/><path d=\"M17.41 7.96l-1.37-1.37c-.4-.4-.92-.59-1.43-.59-.52 0-1.04.2-1.43.59L10.3 9.45l-7.72 7.72c-.78.78-.78 2.05 0 2.83L4 21.41c.39.39.9.59 1.41.59.51 0 1.02-.2 1.41-.59l7.78-7.78 2.81-2.81c.8-.78.8-2.07 0-2.86zM5.41 20L4 18.59l7.72-7.72 1.47 1.35L5.41 20z\"/>\n",
              "  </svg>\n",
              "      </button>\n",
              "      \n",
              "  <style>\n",
              "    .colab-df-container {\n",
              "      display:flex;\n",
              "      flex-wrap:wrap;\n",
              "      gap: 12px;\n",
              "    }\n",
              "\n",
              "    .colab-df-convert {\n",
              "      background-color: #E8F0FE;\n",
              "      border: none;\n",
              "      border-radius: 50%;\n",
              "      cursor: pointer;\n",
              "      display: none;\n",
              "      fill: #1967D2;\n",
              "      height: 32px;\n",
              "      padding: 0 0 0 0;\n",
              "      width: 32px;\n",
              "    }\n",
              "\n",
              "    .colab-df-convert:hover {\n",
              "      background-color: #E2EBFA;\n",
              "      box-shadow: 0px 1px 2px rgba(60, 64, 67, 0.3), 0px 1px 3px 1px rgba(60, 64, 67, 0.15);\n",
              "      fill: #174EA6;\n",
              "    }\n",
              "\n",
              "    [theme=dark] .colab-df-convert {\n",
              "      background-color: #3B4455;\n",
              "      fill: #D2E3FC;\n",
              "    }\n",
              "\n",
              "    [theme=dark] .colab-df-convert:hover {\n",
              "      background-color: #434B5C;\n",
              "      box-shadow: 0px 1px 3px 1px rgba(0, 0, 0, 0.15);\n",
              "      filter: drop-shadow(0px 1px 2px rgba(0, 0, 0, 0.3));\n",
              "      fill: #FFFFFF;\n",
              "    }\n",
              "  </style>\n",
              "\n",
              "      <script>\n",
              "        const buttonEl =\n",
              "          document.querySelector('#df-ab638f9b-9d7f-4106-9fae-332a84a92eac button.colab-df-convert');\n",
              "        buttonEl.style.display =\n",
              "          google.colab.kernel.accessAllowed ? 'block' : 'none';\n",
              "\n",
              "        async function convertToInteractive(key) {\n",
              "          const element = document.querySelector('#df-ab638f9b-9d7f-4106-9fae-332a84a92eac');\n",
              "          const dataTable =\n",
              "            await google.colab.kernel.invokeFunction('convertToInteractive',\n",
              "                                                     [key], {});\n",
              "          if (!dataTable) return;\n",
              "\n",
              "          const docLinkHtml = 'Like what you see? Visit the ' +\n",
              "            '<a target=\"_blank\" href=https://colab.research.google.com/notebooks/data_table.ipynb>data table notebook</a>'\n",
              "            + ' to learn more about interactive tables.';\n",
              "          element.innerHTML = '';\n",
              "          dataTable['output_type'] = 'display_data';\n",
              "          await google.colab.output.renderOutput(dataTable, element);\n",
              "          const docLink = document.createElement('div');\n",
              "          docLink.innerHTML = docLinkHtml;\n",
              "          element.appendChild(docLink);\n",
              "        }\n",
              "      </script>\n",
              "    </div>\n",
              "  </div>\n",
              "  "
            ],
            "text/plain": [
              "   PassengerId  Pclass  ... Cabin Embarked\n",
              "0          892       3  ...   NaN        Q\n",
              "1          893       3  ...   NaN        S\n",
              "2          894       2  ...   NaN        Q\n",
              "3          895       3  ...   NaN        S\n",
              "4          896       3  ...   NaN        S\n",
              "\n",
              "[5 rows x 11 columns]"
            ]
          },
          "metadata": {},
          "execution_count": 97
        }
      ]
    },
    {
      "cell_type": "markdown",
      "source": [
        "## 3. Checking the Data"
      ],
      "metadata": {
        "id": "0ZqB3odWGdBd"
      }
    },
    {
      "cell_type": "code",
      "source": [
        "len(train_df)"
      ],
      "metadata": {
        "id": "g-Nv5RiNeXJe",
        "colab": {
          "base_uri": "https://localhost:8080/"
        },
        "outputId": "e4f42108-bbb0-4948-ff03-0fda7084ebbf"
      },
      "execution_count": 98,
      "outputs": [
        {
          "output_type": "execute_result",
          "data": {
            "text/plain": [
              "891"
            ]
          },
          "metadata": {},
          "execution_count": 98
        }
      ]
    },
    {
      "cell_type": "code",
      "source": [
        "train_df.info()"
      ],
      "metadata": {
        "id": "WgReD1dFR9OC",
        "colab": {
          "base_uri": "https://localhost:8080/"
        },
        "outputId": "2307a15a-f866-4f00-f75f-dcd997011b11"
      },
      "execution_count": 99,
      "outputs": [
        {
          "output_type": "stream",
          "name": "stdout",
          "text": [
            "<class 'pandas.core.frame.DataFrame'>\n",
            "RangeIndex: 891 entries, 0 to 890\n",
            "Data columns (total 12 columns):\n",
            " #   Column       Non-Null Count  Dtype  \n",
            "---  ------       --------------  -----  \n",
            " 0   PassengerId  891 non-null    int64  \n",
            " 1   Survived     891 non-null    int64  \n",
            " 2   Pclass       891 non-null    int64  \n",
            " 3   Name         891 non-null    object \n",
            " 4   Sex          891 non-null    object \n",
            " 5   Age          714 non-null    float64\n",
            " 6   SibSp        891 non-null    int64  \n",
            " 7   Parch        891 non-null    int64  \n",
            " 8   Ticket       891 non-null    object \n",
            " 9   Fare         891 non-null    float64\n",
            " 10  Cabin        204 non-null    object \n",
            " 11  Embarked     889 non-null    object \n",
            "dtypes: float64(2), int64(5), object(5)\n",
            "memory usage: 83.7+ KB\n"
          ]
        }
      ]
    },
    {
      "cell_type": "code",
      "source": [
        "train_df.shape"
      ],
      "metadata": {
        "id": "KaMEgfzGUpAN",
        "colab": {
          "base_uri": "https://localhost:8080/"
        },
        "outputId": "6cc4d2f4-7910-4e12-f1d9-98adebd13563"
      },
      "execution_count": 100,
      "outputs": [
        {
          "output_type": "execute_result",
          "data": {
            "text/plain": [
              "(891, 12)"
            ]
          },
          "metadata": {},
          "execution_count": 100
        }
      ]
    },
    {
      "cell_type": "code",
      "source": [
        "train_df.describe()"
      ],
      "metadata": {
        "id": "STkGt72aJOvY",
        "colab": {
          "base_uri": "https://localhost:8080/",
          "height": 300
        },
        "outputId": "d552a2c2-5583-4fe8-a196-ac64cad9d327"
      },
      "execution_count": 101,
      "outputs": [
        {
          "output_type": "execute_result",
          "data": {
            "text/html": [
              "\n",
              "  <div id=\"df-9180ce6b-9dbe-4017-8cc7-7df290d1850d\">\n",
              "    <div class=\"colab-df-container\">\n",
              "      <div>\n",
              "<style scoped>\n",
              "    .dataframe tbody tr th:only-of-type {\n",
              "        vertical-align: middle;\n",
              "    }\n",
              "\n",
              "    .dataframe tbody tr th {\n",
              "        vertical-align: top;\n",
              "    }\n",
              "\n",
              "    .dataframe thead th {\n",
              "        text-align: right;\n",
              "    }\n",
              "</style>\n",
              "<table border=\"1\" class=\"dataframe\">\n",
              "  <thead>\n",
              "    <tr style=\"text-align: right;\">\n",
              "      <th></th>\n",
              "      <th>PassengerId</th>\n",
              "      <th>Survived</th>\n",
              "      <th>Pclass</th>\n",
              "      <th>Age</th>\n",
              "      <th>SibSp</th>\n",
              "      <th>Parch</th>\n",
              "      <th>Fare</th>\n",
              "    </tr>\n",
              "  </thead>\n",
              "  <tbody>\n",
              "    <tr>\n",
              "      <th>count</th>\n",
              "      <td>891.000000</td>\n",
              "      <td>891.000000</td>\n",
              "      <td>891.000000</td>\n",
              "      <td>714.000000</td>\n",
              "      <td>891.000000</td>\n",
              "      <td>891.000000</td>\n",
              "      <td>891.000000</td>\n",
              "    </tr>\n",
              "    <tr>\n",
              "      <th>mean</th>\n",
              "      <td>446.000000</td>\n",
              "      <td>0.383838</td>\n",
              "      <td>2.308642</td>\n",
              "      <td>29.699118</td>\n",
              "      <td>0.523008</td>\n",
              "      <td>0.381594</td>\n",
              "      <td>32.204208</td>\n",
              "    </tr>\n",
              "    <tr>\n",
              "      <th>std</th>\n",
              "      <td>257.353842</td>\n",
              "      <td>0.486592</td>\n",
              "      <td>0.836071</td>\n",
              "      <td>14.526497</td>\n",
              "      <td>1.102743</td>\n",
              "      <td>0.806057</td>\n",
              "      <td>49.693429</td>\n",
              "    </tr>\n",
              "    <tr>\n",
              "      <th>min</th>\n",
              "      <td>1.000000</td>\n",
              "      <td>0.000000</td>\n",
              "      <td>1.000000</td>\n",
              "      <td>0.420000</td>\n",
              "      <td>0.000000</td>\n",
              "      <td>0.000000</td>\n",
              "      <td>0.000000</td>\n",
              "    </tr>\n",
              "    <tr>\n",
              "      <th>25%</th>\n",
              "      <td>223.500000</td>\n",
              "      <td>0.000000</td>\n",
              "      <td>2.000000</td>\n",
              "      <td>20.125000</td>\n",
              "      <td>0.000000</td>\n",
              "      <td>0.000000</td>\n",
              "      <td>7.910400</td>\n",
              "    </tr>\n",
              "    <tr>\n",
              "      <th>50%</th>\n",
              "      <td>446.000000</td>\n",
              "      <td>0.000000</td>\n",
              "      <td>3.000000</td>\n",
              "      <td>28.000000</td>\n",
              "      <td>0.000000</td>\n",
              "      <td>0.000000</td>\n",
              "      <td>14.454200</td>\n",
              "    </tr>\n",
              "    <tr>\n",
              "      <th>75%</th>\n",
              "      <td>668.500000</td>\n",
              "      <td>1.000000</td>\n",
              "      <td>3.000000</td>\n",
              "      <td>38.000000</td>\n",
              "      <td>1.000000</td>\n",
              "      <td>0.000000</td>\n",
              "      <td>31.000000</td>\n",
              "    </tr>\n",
              "    <tr>\n",
              "      <th>max</th>\n",
              "      <td>891.000000</td>\n",
              "      <td>1.000000</td>\n",
              "      <td>3.000000</td>\n",
              "      <td>80.000000</td>\n",
              "      <td>8.000000</td>\n",
              "      <td>6.000000</td>\n",
              "      <td>512.329200</td>\n",
              "    </tr>\n",
              "  </tbody>\n",
              "</table>\n",
              "</div>\n",
              "      <button class=\"colab-df-convert\" onclick=\"convertToInteractive('df-9180ce6b-9dbe-4017-8cc7-7df290d1850d')\"\n",
              "              title=\"Convert this dataframe to an interactive table.\"\n",
              "              style=\"display:none;\">\n",
              "        \n",
              "  <svg xmlns=\"http://www.w3.org/2000/svg\" height=\"24px\"viewBox=\"0 0 24 24\"\n",
              "       width=\"24px\">\n",
              "    <path d=\"M0 0h24v24H0V0z\" fill=\"none\"/>\n",
              "    <path d=\"M18.56 5.44l.94 2.06.94-2.06 2.06-.94-2.06-.94-.94-2.06-.94 2.06-2.06.94zm-11 1L8.5 8.5l.94-2.06 2.06-.94-2.06-.94L8.5 2.5l-.94 2.06-2.06.94zm10 10l.94 2.06.94-2.06 2.06-.94-2.06-.94-.94-2.06-.94 2.06-2.06.94z\"/><path d=\"M17.41 7.96l-1.37-1.37c-.4-.4-.92-.59-1.43-.59-.52 0-1.04.2-1.43.59L10.3 9.45l-7.72 7.72c-.78.78-.78 2.05 0 2.83L4 21.41c.39.39.9.59 1.41.59.51 0 1.02-.2 1.41-.59l7.78-7.78 2.81-2.81c.8-.78.8-2.07 0-2.86zM5.41 20L4 18.59l7.72-7.72 1.47 1.35L5.41 20z\"/>\n",
              "  </svg>\n",
              "      </button>\n",
              "      \n",
              "  <style>\n",
              "    .colab-df-container {\n",
              "      display:flex;\n",
              "      flex-wrap:wrap;\n",
              "      gap: 12px;\n",
              "    }\n",
              "\n",
              "    .colab-df-convert {\n",
              "      background-color: #E8F0FE;\n",
              "      border: none;\n",
              "      border-radius: 50%;\n",
              "      cursor: pointer;\n",
              "      display: none;\n",
              "      fill: #1967D2;\n",
              "      height: 32px;\n",
              "      padding: 0 0 0 0;\n",
              "      width: 32px;\n",
              "    }\n",
              "\n",
              "    .colab-df-convert:hover {\n",
              "      background-color: #E2EBFA;\n",
              "      box-shadow: 0px 1px 2px rgba(60, 64, 67, 0.3), 0px 1px 3px 1px rgba(60, 64, 67, 0.15);\n",
              "      fill: #174EA6;\n",
              "    }\n",
              "\n",
              "    [theme=dark] .colab-df-convert {\n",
              "      background-color: #3B4455;\n",
              "      fill: #D2E3FC;\n",
              "    }\n",
              "\n",
              "    [theme=dark] .colab-df-convert:hover {\n",
              "      background-color: #434B5C;\n",
              "      box-shadow: 0px 1px 3px 1px rgba(0, 0, 0, 0.15);\n",
              "      filter: drop-shadow(0px 1px 2px rgba(0, 0, 0, 0.3));\n",
              "      fill: #FFFFFF;\n",
              "    }\n",
              "  </style>\n",
              "\n",
              "      <script>\n",
              "        const buttonEl =\n",
              "          document.querySelector('#df-9180ce6b-9dbe-4017-8cc7-7df290d1850d button.colab-df-convert');\n",
              "        buttonEl.style.display =\n",
              "          google.colab.kernel.accessAllowed ? 'block' : 'none';\n",
              "\n",
              "        async function convertToInteractive(key) {\n",
              "          const element = document.querySelector('#df-9180ce6b-9dbe-4017-8cc7-7df290d1850d');\n",
              "          const dataTable =\n",
              "            await google.colab.kernel.invokeFunction('convertToInteractive',\n",
              "                                                     [key], {});\n",
              "          if (!dataTable) return;\n",
              "\n",
              "          const docLinkHtml = 'Like what you see? Visit the ' +\n",
              "            '<a target=\"_blank\" href=https://colab.research.google.com/notebooks/data_table.ipynb>data table notebook</a>'\n",
              "            + ' to learn more about interactive tables.';\n",
              "          element.innerHTML = '';\n",
              "          dataTable['output_type'] = 'display_data';\n",
              "          await google.colab.output.renderOutput(dataTable, element);\n",
              "          const docLink = document.createElement('div');\n",
              "          docLink.innerHTML = docLinkHtml;\n",
              "          element.appendChild(docLink);\n",
              "        }\n",
              "      </script>\n",
              "    </div>\n",
              "  </div>\n",
              "  "
            ],
            "text/plain": [
              "       PassengerId    Survived      Pclass  ...       SibSp       Parch        Fare\n",
              "count   891.000000  891.000000  891.000000  ...  891.000000  891.000000  891.000000\n",
              "mean    446.000000    0.383838    2.308642  ...    0.523008    0.381594   32.204208\n",
              "std     257.353842    0.486592    0.836071  ...    1.102743    0.806057   49.693429\n",
              "min       1.000000    0.000000    1.000000  ...    0.000000    0.000000    0.000000\n",
              "25%     223.500000    0.000000    2.000000  ...    0.000000    0.000000    7.910400\n",
              "50%     446.000000    0.000000    3.000000  ...    0.000000    0.000000   14.454200\n",
              "75%     668.500000    1.000000    3.000000  ...    1.000000    0.000000   31.000000\n",
              "max     891.000000    1.000000    3.000000  ...    8.000000    6.000000  512.329200\n",
              "\n",
              "[8 rows x 7 columns]"
            ]
          },
          "metadata": {},
          "execution_count": 101
        }
      ]
    },
    {
      "cell_type": "markdown",
      "source": [
        "## 5. Tidying the Dataset"
      ],
      "metadata": {
        "id": "6PA6LFmXGxsH"
      }
    },
    {
      "cell_type": "code",
      "source": [
        "train_df.head()"
      ],
      "metadata": {
        "colab": {
          "base_uri": "https://localhost:8080/",
          "height": 206
        },
        "id": "pHi2spEsZUfL",
        "outputId": "107661d0-1b1e-4662-b4dc-738f86b84052"
      },
      "execution_count": 102,
      "outputs": [
        {
          "output_type": "execute_result",
          "data": {
            "text/html": [
              "\n",
              "  <div id=\"df-cf7939f7-28c8-40bc-b03a-3d136f0ba40b\">\n",
              "    <div class=\"colab-df-container\">\n",
              "      <div>\n",
              "<style scoped>\n",
              "    .dataframe tbody tr th:only-of-type {\n",
              "        vertical-align: middle;\n",
              "    }\n",
              "\n",
              "    .dataframe tbody tr th {\n",
              "        vertical-align: top;\n",
              "    }\n",
              "\n",
              "    .dataframe thead th {\n",
              "        text-align: right;\n",
              "    }\n",
              "</style>\n",
              "<table border=\"1\" class=\"dataframe\">\n",
              "  <thead>\n",
              "    <tr style=\"text-align: right;\">\n",
              "      <th></th>\n",
              "      <th>PassengerId</th>\n",
              "      <th>Survived</th>\n",
              "      <th>Pclass</th>\n",
              "      <th>Name</th>\n",
              "      <th>Sex</th>\n",
              "      <th>Age</th>\n",
              "      <th>SibSp</th>\n",
              "      <th>Parch</th>\n",
              "      <th>Ticket</th>\n",
              "      <th>Fare</th>\n",
              "      <th>Cabin</th>\n",
              "      <th>Embarked</th>\n",
              "    </tr>\n",
              "  </thead>\n",
              "  <tbody>\n",
              "    <tr>\n",
              "      <th>0</th>\n",
              "      <td>1</td>\n",
              "      <td>0</td>\n",
              "      <td>3</td>\n",
              "      <td>Braund, Mr. Owen Harris</td>\n",
              "      <td>male</td>\n",
              "      <td>22.0</td>\n",
              "      <td>1</td>\n",
              "      <td>0</td>\n",
              "      <td>A/5 21171</td>\n",
              "      <td>7.2500</td>\n",
              "      <td>NaN</td>\n",
              "      <td>S</td>\n",
              "    </tr>\n",
              "    <tr>\n",
              "      <th>1</th>\n",
              "      <td>2</td>\n",
              "      <td>1</td>\n",
              "      <td>1</td>\n",
              "      <td>Cumings, Mrs. John Bradley (Florence Briggs Th...</td>\n",
              "      <td>female</td>\n",
              "      <td>38.0</td>\n",
              "      <td>1</td>\n",
              "      <td>0</td>\n",
              "      <td>PC 17599</td>\n",
              "      <td>71.2833</td>\n",
              "      <td>C85</td>\n",
              "      <td>C</td>\n",
              "    </tr>\n",
              "    <tr>\n",
              "      <th>2</th>\n",
              "      <td>3</td>\n",
              "      <td>1</td>\n",
              "      <td>3</td>\n",
              "      <td>Heikkinen, Miss. Laina</td>\n",
              "      <td>female</td>\n",
              "      <td>26.0</td>\n",
              "      <td>0</td>\n",
              "      <td>0</td>\n",
              "      <td>STON/O2. 3101282</td>\n",
              "      <td>7.9250</td>\n",
              "      <td>NaN</td>\n",
              "      <td>S</td>\n",
              "    </tr>\n",
              "    <tr>\n",
              "      <th>3</th>\n",
              "      <td>4</td>\n",
              "      <td>1</td>\n",
              "      <td>1</td>\n",
              "      <td>Futrelle, Mrs. Jacques Heath (Lily May Peel)</td>\n",
              "      <td>female</td>\n",
              "      <td>35.0</td>\n",
              "      <td>1</td>\n",
              "      <td>0</td>\n",
              "      <td>113803</td>\n",
              "      <td>53.1000</td>\n",
              "      <td>C123</td>\n",
              "      <td>S</td>\n",
              "    </tr>\n",
              "    <tr>\n",
              "      <th>4</th>\n",
              "      <td>5</td>\n",
              "      <td>0</td>\n",
              "      <td>3</td>\n",
              "      <td>Allen, Mr. William Henry</td>\n",
              "      <td>male</td>\n",
              "      <td>35.0</td>\n",
              "      <td>0</td>\n",
              "      <td>0</td>\n",
              "      <td>373450</td>\n",
              "      <td>8.0500</td>\n",
              "      <td>NaN</td>\n",
              "      <td>S</td>\n",
              "    </tr>\n",
              "  </tbody>\n",
              "</table>\n",
              "</div>\n",
              "      <button class=\"colab-df-convert\" onclick=\"convertToInteractive('df-cf7939f7-28c8-40bc-b03a-3d136f0ba40b')\"\n",
              "              title=\"Convert this dataframe to an interactive table.\"\n",
              "              style=\"display:none;\">\n",
              "        \n",
              "  <svg xmlns=\"http://www.w3.org/2000/svg\" height=\"24px\"viewBox=\"0 0 24 24\"\n",
              "       width=\"24px\">\n",
              "    <path d=\"M0 0h24v24H0V0z\" fill=\"none\"/>\n",
              "    <path d=\"M18.56 5.44l.94 2.06.94-2.06 2.06-.94-2.06-.94-.94-2.06-.94 2.06-2.06.94zm-11 1L8.5 8.5l.94-2.06 2.06-.94-2.06-.94L8.5 2.5l-.94 2.06-2.06.94zm10 10l.94 2.06.94-2.06 2.06-.94-2.06-.94-.94-2.06-.94 2.06-2.06.94z\"/><path d=\"M17.41 7.96l-1.37-1.37c-.4-.4-.92-.59-1.43-.59-.52 0-1.04.2-1.43.59L10.3 9.45l-7.72 7.72c-.78.78-.78 2.05 0 2.83L4 21.41c.39.39.9.59 1.41.59.51 0 1.02-.2 1.41-.59l7.78-7.78 2.81-2.81c.8-.78.8-2.07 0-2.86zM5.41 20L4 18.59l7.72-7.72 1.47 1.35L5.41 20z\"/>\n",
              "  </svg>\n",
              "      </button>\n",
              "      \n",
              "  <style>\n",
              "    .colab-df-container {\n",
              "      display:flex;\n",
              "      flex-wrap:wrap;\n",
              "      gap: 12px;\n",
              "    }\n",
              "\n",
              "    .colab-df-convert {\n",
              "      background-color: #E8F0FE;\n",
              "      border: none;\n",
              "      border-radius: 50%;\n",
              "      cursor: pointer;\n",
              "      display: none;\n",
              "      fill: #1967D2;\n",
              "      height: 32px;\n",
              "      padding: 0 0 0 0;\n",
              "      width: 32px;\n",
              "    }\n",
              "\n",
              "    .colab-df-convert:hover {\n",
              "      background-color: #E2EBFA;\n",
              "      box-shadow: 0px 1px 2px rgba(60, 64, 67, 0.3), 0px 1px 3px 1px rgba(60, 64, 67, 0.15);\n",
              "      fill: #174EA6;\n",
              "    }\n",
              "\n",
              "    [theme=dark] .colab-df-convert {\n",
              "      background-color: #3B4455;\n",
              "      fill: #D2E3FC;\n",
              "    }\n",
              "\n",
              "    [theme=dark] .colab-df-convert:hover {\n",
              "      background-color: #434B5C;\n",
              "      box-shadow: 0px 1px 3px 1px rgba(0, 0, 0, 0.15);\n",
              "      filter: drop-shadow(0px 1px 2px rgba(0, 0, 0, 0.3));\n",
              "      fill: #FFFFFF;\n",
              "    }\n",
              "  </style>\n",
              "\n",
              "      <script>\n",
              "        const buttonEl =\n",
              "          document.querySelector('#df-cf7939f7-28c8-40bc-b03a-3d136f0ba40b button.colab-df-convert');\n",
              "        buttonEl.style.display =\n",
              "          google.colab.kernel.accessAllowed ? 'block' : 'none';\n",
              "\n",
              "        async function convertToInteractive(key) {\n",
              "          const element = document.querySelector('#df-cf7939f7-28c8-40bc-b03a-3d136f0ba40b');\n",
              "          const dataTable =\n",
              "            await google.colab.kernel.invokeFunction('convertToInteractive',\n",
              "                                                     [key], {});\n",
              "          if (!dataTable) return;\n",
              "\n",
              "          const docLinkHtml = 'Like what you see? Visit the ' +\n",
              "            '<a target=\"_blank\" href=https://colab.research.google.com/notebooks/data_table.ipynb>data table notebook</a>'\n",
              "            + ' to learn more about interactive tables.';\n",
              "          element.innerHTML = '';\n",
              "          dataTable['output_type'] = 'display_data';\n",
              "          await google.colab.output.renderOutput(dataTable, element);\n",
              "          const docLink = document.createElement('div');\n",
              "          docLink.innerHTML = docLinkHtml;\n",
              "          element.appendChild(docLink);\n",
              "        }\n",
              "      </script>\n",
              "    </div>\n",
              "  </div>\n",
              "  "
            ],
            "text/plain": [
              "   PassengerId  Survived  Pclass  ...     Fare Cabin  Embarked\n",
              "0            1         0       3  ...   7.2500   NaN         S\n",
              "1            2         1       1  ...  71.2833   C85         C\n",
              "2            3         1       3  ...   7.9250   NaN         S\n",
              "3            4         1       1  ...  53.1000  C123         S\n",
              "4            5         0       3  ...   8.0500   NaN         S\n",
              "\n",
              "[5 rows x 12 columns]"
            ]
          },
          "metadata": {},
          "execution_count": 102
        }
      ]
    },
    {
      "cell_type": "code",
      "source": [
        "# check for duplicates\n",
        "train_df.duplicated().sum()"
      ],
      "metadata": {
        "colab": {
          "base_uri": "https://localhost:8080/"
        },
        "id": "FWcRvfkcglnK",
        "outputId": "138a104e-46f6-4d1f-fb44-896094394713"
      },
      "execution_count": 103,
      "outputs": [
        {
          "output_type": "execute_result",
          "data": {
            "text/plain": [
              "0"
            ]
          },
          "metadata": {},
          "execution_count": 103
        }
      ]
    },
    {
      "cell_type": "code",
      "source": [
        "# Identifying the Missing Data\n",
        "train_df.isna().sum()"
      ],
      "metadata": {
        "id": "HgISXFZZHqLL",
        "colab": {
          "base_uri": "https://localhost:8080/"
        },
        "outputId": "b7bc481f-71d4-4f10-d898-cc2132a77713"
      },
      "execution_count": 104,
      "outputs": [
        {
          "output_type": "execute_result",
          "data": {
            "text/plain": [
              "PassengerId      0\n",
              "Survived         0\n",
              "Pclass           0\n",
              "Name             0\n",
              "Sex              0\n",
              "Age            177\n",
              "SibSp            0\n",
              "Parch            0\n",
              "Ticket           0\n",
              "Fare             0\n",
              "Cabin          687\n",
              "Embarked         2\n",
              "dtype: int64"
            ]
          },
          "metadata": {},
          "execution_count": 104
        }
      ]
    },
    {
      "cell_type": "code",
      "source": [
        "# dealing with null values\n",
        "train_df = train_df.fillna(value={'Age':train_df['Age'].mean(),'Cabin':'Unkown','Embarked':'Unknown'}, method=None, axis=None, inplace=False, limit=None, downcast=None)\n",
        "train_df"
      ],
      "metadata": {
        "colab": {
          "base_uri": "https://localhost:8080/",
          "height": 423
        },
        "id": "XmEv9GUygdnd",
        "outputId": "45b12454-6ee8-4d45-b9c6-b182a1e61308"
      },
      "execution_count": 105,
      "outputs": [
        {
          "output_type": "execute_result",
          "data": {
            "text/html": [
              "\n",
              "  <div id=\"df-1d432b2d-7fc9-42a8-b549-3809f3e70601\">\n",
              "    <div class=\"colab-df-container\">\n",
              "      <div>\n",
              "<style scoped>\n",
              "    .dataframe tbody tr th:only-of-type {\n",
              "        vertical-align: middle;\n",
              "    }\n",
              "\n",
              "    .dataframe tbody tr th {\n",
              "        vertical-align: top;\n",
              "    }\n",
              "\n",
              "    .dataframe thead th {\n",
              "        text-align: right;\n",
              "    }\n",
              "</style>\n",
              "<table border=\"1\" class=\"dataframe\">\n",
              "  <thead>\n",
              "    <tr style=\"text-align: right;\">\n",
              "      <th></th>\n",
              "      <th>PassengerId</th>\n",
              "      <th>Survived</th>\n",
              "      <th>Pclass</th>\n",
              "      <th>Name</th>\n",
              "      <th>Sex</th>\n",
              "      <th>Age</th>\n",
              "      <th>SibSp</th>\n",
              "      <th>Parch</th>\n",
              "      <th>Ticket</th>\n",
              "      <th>Fare</th>\n",
              "      <th>Cabin</th>\n",
              "      <th>Embarked</th>\n",
              "    </tr>\n",
              "  </thead>\n",
              "  <tbody>\n",
              "    <tr>\n",
              "      <th>0</th>\n",
              "      <td>1</td>\n",
              "      <td>0</td>\n",
              "      <td>3</td>\n",
              "      <td>Braund, Mr. Owen Harris</td>\n",
              "      <td>male</td>\n",
              "      <td>22.000000</td>\n",
              "      <td>1</td>\n",
              "      <td>0</td>\n",
              "      <td>A/5 21171</td>\n",
              "      <td>7.2500</td>\n",
              "      <td>Unkown</td>\n",
              "      <td>S</td>\n",
              "    </tr>\n",
              "    <tr>\n",
              "      <th>1</th>\n",
              "      <td>2</td>\n",
              "      <td>1</td>\n",
              "      <td>1</td>\n",
              "      <td>Cumings, Mrs. John Bradley (Florence Briggs Th...</td>\n",
              "      <td>female</td>\n",
              "      <td>38.000000</td>\n",
              "      <td>1</td>\n",
              "      <td>0</td>\n",
              "      <td>PC 17599</td>\n",
              "      <td>71.2833</td>\n",
              "      <td>C85</td>\n",
              "      <td>C</td>\n",
              "    </tr>\n",
              "    <tr>\n",
              "      <th>2</th>\n",
              "      <td>3</td>\n",
              "      <td>1</td>\n",
              "      <td>3</td>\n",
              "      <td>Heikkinen, Miss. Laina</td>\n",
              "      <td>female</td>\n",
              "      <td>26.000000</td>\n",
              "      <td>0</td>\n",
              "      <td>0</td>\n",
              "      <td>STON/O2. 3101282</td>\n",
              "      <td>7.9250</td>\n",
              "      <td>Unkown</td>\n",
              "      <td>S</td>\n",
              "    </tr>\n",
              "    <tr>\n",
              "      <th>3</th>\n",
              "      <td>4</td>\n",
              "      <td>1</td>\n",
              "      <td>1</td>\n",
              "      <td>Futrelle, Mrs. Jacques Heath (Lily May Peel)</td>\n",
              "      <td>female</td>\n",
              "      <td>35.000000</td>\n",
              "      <td>1</td>\n",
              "      <td>0</td>\n",
              "      <td>113803</td>\n",
              "      <td>53.1000</td>\n",
              "      <td>C123</td>\n",
              "      <td>S</td>\n",
              "    </tr>\n",
              "    <tr>\n",
              "      <th>4</th>\n",
              "      <td>5</td>\n",
              "      <td>0</td>\n",
              "      <td>3</td>\n",
              "      <td>Allen, Mr. William Henry</td>\n",
              "      <td>male</td>\n",
              "      <td>35.000000</td>\n",
              "      <td>0</td>\n",
              "      <td>0</td>\n",
              "      <td>373450</td>\n",
              "      <td>8.0500</td>\n",
              "      <td>Unkown</td>\n",
              "      <td>S</td>\n",
              "    </tr>\n",
              "    <tr>\n",
              "      <th>...</th>\n",
              "      <td>...</td>\n",
              "      <td>...</td>\n",
              "      <td>...</td>\n",
              "      <td>...</td>\n",
              "      <td>...</td>\n",
              "      <td>...</td>\n",
              "      <td>...</td>\n",
              "      <td>...</td>\n",
              "      <td>...</td>\n",
              "      <td>...</td>\n",
              "      <td>...</td>\n",
              "      <td>...</td>\n",
              "    </tr>\n",
              "    <tr>\n",
              "      <th>886</th>\n",
              "      <td>887</td>\n",
              "      <td>0</td>\n",
              "      <td>2</td>\n",
              "      <td>Montvila, Rev. Juozas</td>\n",
              "      <td>male</td>\n",
              "      <td>27.000000</td>\n",
              "      <td>0</td>\n",
              "      <td>0</td>\n",
              "      <td>211536</td>\n",
              "      <td>13.0000</td>\n",
              "      <td>Unkown</td>\n",
              "      <td>S</td>\n",
              "    </tr>\n",
              "    <tr>\n",
              "      <th>887</th>\n",
              "      <td>888</td>\n",
              "      <td>1</td>\n",
              "      <td>1</td>\n",
              "      <td>Graham, Miss. Margaret Edith</td>\n",
              "      <td>female</td>\n",
              "      <td>19.000000</td>\n",
              "      <td>0</td>\n",
              "      <td>0</td>\n",
              "      <td>112053</td>\n",
              "      <td>30.0000</td>\n",
              "      <td>B42</td>\n",
              "      <td>S</td>\n",
              "    </tr>\n",
              "    <tr>\n",
              "      <th>888</th>\n",
              "      <td>889</td>\n",
              "      <td>0</td>\n",
              "      <td>3</td>\n",
              "      <td>Johnston, Miss. Catherine Helen \"Carrie\"</td>\n",
              "      <td>female</td>\n",
              "      <td>29.699118</td>\n",
              "      <td>1</td>\n",
              "      <td>2</td>\n",
              "      <td>W./C. 6607</td>\n",
              "      <td>23.4500</td>\n",
              "      <td>Unkown</td>\n",
              "      <td>S</td>\n",
              "    </tr>\n",
              "    <tr>\n",
              "      <th>889</th>\n",
              "      <td>890</td>\n",
              "      <td>1</td>\n",
              "      <td>1</td>\n",
              "      <td>Behr, Mr. Karl Howell</td>\n",
              "      <td>male</td>\n",
              "      <td>26.000000</td>\n",
              "      <td>0</td>\n",
              "      <td>0</td>\n",
              "      <td>111369</td>\n",
              "      <td>30.0000</td>\n",
              "      <td>C148</td>\n",
              "      <td>C</td>\n",
              "    </tr>\n",
              "    <tr>\n",
              "      <th>890</th>\n",
              "      <td>891</td>\n",
              "      <td>0</td>\n",
              "      <td>3</td>\n",
              "      <td>Dooley, Mr. Patrick</td>\n",
              "      <td>male</td>\n",
              "      <td>32.000000</td>\n",
              "      <td>0</td>\n",
              "      <td>0</td>\n",
              "      <td>370376</td>\n",
              "      <td>7.7500</td>\n",
              "      <td>Unkown</td>\n",
              "      <td>Q</td>\n",
              "    </tr>\n",
              "  </tbody>\n",
              "</table>\n",
              "<p>891 rows × 12 columns</p>\n",
              "</div>\n",
              "      <button class=\"colab-df-convert\" onclick=\"convertToInteractive('df-1d432b2d-7fc9-42a8-b549-3809f3e70601')\"\n",
              "              title=\"Convert this dataframe to an interactive table.\"\n",
              "              style=\"display:none;\">\n",
              "        \n",
              "  <svg xmlns=\"http://www.w3.org/2000/svg\" height=\"24px\"viewBox=\"0 0 24 24\"\n",
              "       width=\"24px\">\n",
              "    <path d=\"M0 0h24v24H0V0z\" fill=\"none\"/>\n",
              "    <path d=\"M18.56 5.44l.94 2.06.94-2.06 2.06-.94-2.06-.94-.94-2.06-.94 2.06-2.06.94zm-11 1L8.5 8.5l.94-2.06 2.06-.94-2.06-.94L8.5 2.5l-.94 2.06-2.06.94zm10 10l.94 2.06.94-2.06 2.06-.94-2.06-.94-.94-2.06-.94 2.06-2.06.94z\"/><path d=\"M17.41 7.96l-1.37-1.37c-.4-.4-.92-.59-1.43-.59-.52 0-1.04.2-1.43.59L10.3 9.45l-7.72 7.72c-.78.78-.78 2.05 0 2.83L4 21.41c.39.39.9.59 1.41.59.51 0 1.02-.2 1.41-.59l7.78-7.78 2.81-2.81c.8-.78.8-2.07 0-2.86zM5.41 20L4 18.59l7.72-7.72 1.47 1.35L5.41 20z\"/>\n",
              "  </svg>\n",
              "      </button>\n",
              "      \n",
              "  <style>\n",
              "    .colab-df-container {\n",
              "      display:flex;\n",
              "      flex-wrap:wrap;\n",
              "      gap: 12px;\n",
              "    }\n",
              "\n",
              "    .colab-df-convert {\n",
              "      background-color: #E8F0FE;\n",
              "      border: none;\n",
              "      border-radius: 50%;\n",
              "      cursor: pointer;\n",
              "      display: none;\n",
              "      fill: #1967D2;\n",
              "      height: 32px;\n",
              "      padding: 0 0 0 0;\n",
              "      width: 32px;\n",
              "    }\n",
              "\n",
              "    .colab-df-convert:hover {\n",
              "      background-color: #E2EBFA;\n",
              "      box-shadow: 0px 1px 2px rgba(60, 64, 67, 0.3), 0px 1px 3px 1px rgba(60, 64, 67, 0.15);\n",
              "      fill: #174EA6;\n",
              "    }\n",
              "\n",
              "    [theme=dark] .colab-df-convert {\n",
              "      background-color: #3B4455;\n",
              "      fill: #D2E3FC;\n",
              "    }\n",
              "\n",
              "    [theme=dark] .colab-df-convert:hover {\n",
              "      background-color: #434B5C;\n",
              "      box-shadow: 0px 1px 3px 1px rgba(0, 0, 0, 0.15);\n",
              "      filter: drop-shadow(0px 1px 2px rgba(0, 0, 0, 0.3));\n",
              "      fill: #FFFFFF;\n",
              "    }\n",
              "  </style>\n",
              "\n",
              "      <script>\n",
              "        const buttonEl =\n",
              "          document.querySelector('#df-1d432b2d-7fc9-42a8-b549-3809f3e70601 button.colab-df-convert');\n",
              "        buttonEl.style.display =\n",
              "          google.colab.kernel.accessAllowed ? 'block' : 'none';\n",
              "\n",
              "        async function convertToInteractive(key) {\n",
              "          const element = document.querySelector('#df-1d432b2d-7fc9-42a8-b549-3809f3e70601');\n",
              "          const dataTable =\n",
              "            await google.colab.kernel.invokeFunction('convertToInteractive',\n",
              "                                                     [key], {});\n",
              "          if (!dataTable) return;\n",
              "\n",
              "          const docLinkHtml = 'Like what you see? Visit the ' +\n",
              "            '<a target=\"_blank\" href=https://colab.research.google.com/notebooks/data_table.ipynb>data table notebook</a>'\n",
              "            + ' to learn more about interactive tables.';\n",
              "          element.innerHTML = '';\n",
              "          dataTable['output_type'] = 'display_data';\n",
              "          await google.colab.output.renderOutput(dataTable, element);\n",
              "          const docLink = document.createElement('div');\n",
              "          docLink.innerHTML = docLinkHtml;\n",
              "          element.appendChild(docLink);\n",
              "        }\n",
              "      </script>\n",
              "    </div>\n",
              "  </div>\n",
              "  "
            ],
            "text/plain": [
              "     PassengerId  Survived  Pclass  ...     Fare   Cabin  Embarked\n",
              "0              1         0       3  ...   7.2500  Unkown         S\n",
              "1              2         1       1  ...  71.2833     C85         C\n",
              "2              3         1       3  ...   7.9250  Unkown         S\n",
              "3              4         1       1  ...  53.1000    C123         S\n",
              "4              5         0       3  ...   8.0500  Unkown         S\n",
              "..           ...       ...     ...  ...      ...     ...       ...\n",
              "886          887         0       2  ...  13.0000  Unkown         S\n",
              "887          888         1       1  ...  30.0000     B42         S\n",
              "888          889         0       3  ...  23.4500  Unkown         S\n",
              "889          890         1       1  ...  30.0000    C148         C\n",
              "890          891         0       3  ...   7.7500  Unkown         Q\n",
              "\n",
              "[891 rows x 12 columns]"
            ]
          },
          "metadata": {},
          "execution_count": 105
        }
      ]
    },
    {
      "cell_type": "code",
      "source": [
        "train_df.isna().sum()"
      ],
      "metadata": {
        "colab": {
          "base_uri": "https://localhost:8080/"
        },
        "id": "nL7lXVehs5uQ",
        "outputId": "656fc330-81cd-4097-c836-e231d8eff2f7"
      },
      "execution_count": 106,
      "outputs": [
        {
          "output_type": "execute_result",
          "data": {
            "text/plain": [
              "PassengerId    0\n",
              "Survived       0\n",
              "Pclass         0\n",
              "Name           0\n",
              "Sex            0\n",
              "Age            0\n",
              "SibSp          0\n",
              "Parch          0\n",
              "Ticket         0\n",
              "Fare           0\n",
              "Cabin          0\n",
              "Embarked       0\n",
              "dtype: int64"
            ]
          },
          "metadata": {},
          "execution_count": 106
        }
      ]
    },
    {
      "cell_type": "code",
      "source": [
        "train_df.shape"
      ],
      "metadata": {
        "colab": {
          "base_uri": "https://localhost:8080/"
        },
        "id": "EjEJh5YAhXW7",
        "outputId": "cd00d229-9677-4b1e-f926-b3ad190a6225"
      },
      "execution_count": 107,
      "outputs": [
        {
          "output_type": "execute_result",
          "data": {
            "text/plain": [
              "(891, 12)"
            ]
          },
          "metadata": {},
          "execution_count": 107
        }
      ]
    },
    {
      "cell_type": "code",
      "source": [
        "# Checking for Anomalies\n",
        "for b in train_df:\n",
        "  print(b,train_df[b].unique())"
      ],
      "metadata": {
        "id": "LleCQP33HpT0",
        "colab": {
          "base_uri": "https://localhost:8080/"
        },
        "outputId": "e6e0ae6a-6001-4760-8525-6b4ca8412e1a"
      },
      "execution_count": 108,
      "outputs": [
        {
          "output_type": "stream",
          "name": "stdout",
          "text": [
            "PassengerId [  1   2   3   4   5   6   7   8   9  10  11  12  13  14  15  16  17  18\n",
            "  19  20  21  22  23  24  25  26  27  28  29  30  31  32  33  34  35  36\n",
            "  37  38  39  40  41  42  43  44  45  46  47  48  49  50  51  52  53  54\n",
            "  55  56  57  58  59  60  61  62  63  64  65  66  67  68  69  70  71  72\n",
            "  73  74  75  76  77  78  79  80  81  82  83  84  85  86  87  88  89  90\n",
            "  91  92  93  94  95  96  97  98  99 100 101 102 103 104 105 106 107 108\n",
            " 109 110 111 112 113 114 115 116 117 118 119 120 121 122 123 124 125 126\n",
            " 127 128 129 130 131 132 133 134 135 136 137 138 139 140 141 142 143 144\n",
            " 145 146 147 148 149 150 151 152 153 154 155 156 157 158 159 160 161 162\n",
            " 163 164 165 166 167 168 169 170 171 172 173 174 175 176 177 178 179 180\n",
            " 181 182 183 184 185 186 187 188 189 190 191 192 193 194 195 196 197 198\n",
            " 199 200 201 202 203 204 205 206 207 208 209 210 211 212 213 214 215 216\n",
            " 217 218 219 220 221 222 223 224 225 226 227 228 229 230 231 232 233 234\n",
            " 235 236 237 238 239 240 241 242 243 244 245 246 247 248 249 250 251 252\n",
            " 253 254 255 256 257 258 259 260 261 262 263 264 265 266 267 268 269 270\n",
            " 271 272 273 274 275 276 277 278 279 280 281 282 283 284 285 286 287 288\n",
            " 289 290 291 292 293 294 295 296 297 298 299 300 301 302 303 304 305 306\n",
            " 307 308 309 310 311 312 313 314 315 316 317 318 319 320 321 322 323 324\n",
            " 325 326 327 328 329 330 331 332 333 334 335 336 337 338 339 340 341 342\n",
            " 343 344 345 346 347 348 349 350 351 352 353 354 355 356 357 358 359 360\n",
            " 361 362 363 364 365 366 367 368 369 370 371 372 373 374 375 376 377 378\n",
            " 379 380 381 382 383 384 385 386 387 388 389 390 391 392 393 394 395 396\n",
            " 397 398 399 400 401 402 403 404 405 406 407 408 409 410 411 412 413 414\n",
            " 415 416 417 418 419 420 421 422 423 424 425 426 427 428 429 430 431 432\n",
            " 433 434 435 436 437 438 439 440 441 442 443 444 445 446 447 448 449 450\n",
            " 451 452 453 454 455 456 457 458 459 460 461 462 463 464 465 466 467 468\n",
            " 469 470 471 472 473 474 475 476 477 478 479 480 481 482 483 484 485 486\n",
            " 487 488 489 490 491 492 493 494 495 496 497 498 499 500 501 502 503 504\n",
            " 505 506 507 508 509 510 511 512 513 514 515 516 517 518 519 520 521 522\n",
            " 523 524 525 526 527 528 529 530 531 532 533 534 535 536 537 538 539 540\n",
            " 541 542 543 544 545 546 547 548 549 550 551 552 553 554 555 556 557 558\n",
            " 559 560 561 562 563 564 565 566 567 568 569 570 571 572 573 574 575 576\n",
            " 577 578 579 580 581 582 583 584 585 586 587 588 589 590 591 592 593 594\n",
            " 595 596 597 598 599 600 601 602 603 604 605 606 607 608 609 610 611 612\n",
            " 613 614 615 616 617 618 619 620 621 622 623 624 625 626 627 628 629 630\n",
            " 631 632 633 634 635 636 637 638 639 640 641 642 643 644 645 646 647 648\n",
            " 649 650 651 652 653 654 655 656 657 658 659 660 661 662 663 664 665 666\n",
            " 667 668 669 670 671 672 673 674 675 676 677 678 679 680 681 682 683 684\n",
            " 685 686 687 688 689 690 691 692 693 694 695 696 697 698 699 700 701 702\n",
            " 703 704 705 706 707 708 709 710 711 712 713 714 715 716 717 718 719 720\n",
            " 721 722 723 724 725 726 727 728 729 730 731 732 733 734 735 736 737 738\n",
            " 739 740 741 742 743 744 745 746 747 748 749 750 751 752 753 754 755 756\n",
            " 757 758 759 760 761 762 763 764 765 766 767 768 769 770 771 772 773 774\n",
            " 775 776 777 778 779 780 781 782 783 784 785 786 787 788 789 790 791 792\n",
            " 793 794 795 796 797 798 799 800 801 802 803 804 805 806 807 808 809 810\n",
            " 811 812 813 814 815 816 817 818 819 820 821 822 823 824 825 826 827 828\n",
            " 829 830 831 832 833 834 835 836 837 838 839 840 841 842 843 844 845 846\n",
            " 847 848 849 850 851 852 853 854 855 856 857 858 859 860 861 862 863 864\n",
            " 865 866 867 868 869 870 871 872 873 874 875 876 877 878 879 880 881 882\n",
            " 883 884 885 886 887 888 889 890 891]\n",
            "Survived [0 1]\n",
            "Pclass [3 1 2]\n",
            "Name ['Braund, Mr. Owen Harris'\n",
            " 'Cumings, Mrs. John Bradley (Florence Briggs Thayer)'\n",
            " 'Heikkinen, Miss. Laina' 'Futrelle, Mrs. Jacques Heath (Lily May Peel)'\n",
            " 'Allen, Mr. William Henry' 'Moran, Mr. James' 'McCarthy, Mr. Timothy J'\n",
            " 'Palsson, Master. Gosta Leonard'\n",
            " 'Johnson, Mrs. Oscar W (Elisabeth Vilhelmina Berg)'\n",
            " 'Nasser, Mrs. Nicholas (Adele Achem)' 'Sandstrom, Miss. Marguerite Rut'\n",
            " 'Bonnell, Miss. Elizabeth' 'Saundercock, Mr. William Henry'\n",
            " 'Andersson, Mr. Anders Johan' 'Vestrom, Miss. Hulda Amanda Adolfina'\n",
            " 'Hewlett, Mrs. (Mary D Kingcome) ' 'Rice, Master. Eugene'\n",
            " 'Williams, Mr. Charles Eugene'\n",
            " 'Vander Planke, Mrs. Julius (Emelia Maria Vandemoortele)'\n",
            " 'Masselmani, Mrs. Fatima' 'Fynney, Mr. Joseph J' 'Beesley, Mr. Lawrence'\n",
            " 'McGowan, Miss. Anna \"Annie\"' 'Sloper, Mr. William Thompson'\n",
            " 'Palsson, Miss. Torborg Danira'\n",
            " 'Asplund, Mrs. Carl Oscar (Selma Augusta Emilia Johansson)'\n",
            " 'Emir, Mr. Farred Chehab' 'Fortune, Mr. Charles Alexander'\n",
            " 'O\\'Dwyer, Miss. Ellen \"Nellie\"' 'Todoroff, Mr. Lalio'\n",
            " 'Uruchurtu, Don. Manuel E'\n",
            " 'Spencer, Mrs. William Augustus (Marie Eugenie)'\n",
            " 'Glynn, Miss. Mary Agatha' 'Wheadon, Mr. Edward H'\n",
            " 'Meyer, Mr. Edgar Joseph' 'Holverson, Mr. Alexander Oskar'\n",
            " 'Mamee, Mr. Hanna' 'Cann, Mr. Ernest Charles'\n",
            " 'Vander Planke, Miss. Augusta Maria' 'Nicola-Yarred, Miss. Jamila'\n",
            " 'Ahlin, Mrs. Johan (Johanna Persdotter Larsson)'\n",
            " 'Turpin, Mrs. William John Robert (Dorothy Ann Wonnacott)'\n",
            " 'Kraeff, Mr. Theodor' 'Laroche, Miss. Simonne Marie Anne Andree'\n",
            " 'Devaney, Miss. Margaret Delia' 'Rogers, Mr. William John'\n",
            " 'Lennon, Mr. Denis' \"O'Driscoll, Miss. Bridget\" 'Samaan, Mr. Youssef'\n",
            " 'Arnold-Franchi, Mrs. Josef (Josefine Franchi)'\n",
            " 'Panula, Master. Juha Niilo' 'Nosworthy, Mr. Richard Cater'\n",
            " 'Harper, Mrs. Henry Sleeper (Myna Haxtun)'\n",
            " 'Faunthorpe, Mrs. Lizzie (Elizabeth Anne Wilkinson)'\n",
            " 'Ostby, Mr. Engelhart Cornelius' 'Woolner, Mr. Hugh' 'Rugg, Miss. Emily'\n",
            " 'Novel, Mr. Mansouer' 'West, Miss. Constance Mirium'\n",
            " 'Goodwin, Master. William Frederick' 'Sirayanian, Mr. Orsen'\n",
            " 'Icard, Miss. Amelie' 'Harris, Mr. Henry Birkhardt'\n",
            " 'Skoog, Master. Harald' 'Stewart, Mr. Albert A'\n",
            " 'Moubarek, Master. Gerios' 'Nye, Mrs. (Elizabeth Ramell)'\n",
            " 'Crease, Mr. Ernest James' 'Andersson, Miss. Erna Alexandra'\n",
            " 'Kink, Mr. Vincenz' 'Jenkin, Mr. Stephen Curnow'\n",
            " 'Goodwin, Miss. Lillian Amy' 'Hood, Mr. Ambrose Jr'\n",
            " 'Chronopoulos, Mr. Apostolos' 'Bing, Mr. Lee' 'Moen, Mr. Sigurd Hansen'\n",
            " 'Staneff, Mr. Ivan' 'Moutal, Mr. Rahamin Haim'\n",
            " 'Caldwell, Master. Alden Gates' 'Dowdell, Miss. Elizabeth'\n",
            " 'Waelens, Mr. Achille' 'Sheerlinck, Mr. Jan Baptist'\n",
            " 'McDermott, Miss. Brigdet Delia' 'Carrau, Mr. Francisco M'\n",
            " 'Ilett, Miss. Bertha'\n",
            " 'Backstrom, Mrs. Karl Alfred (Maria Mathilda Gustafsson)'\n",
            " 'Ford, Mr. William Neal' 'Slocovski, Mr. Selman Francis'\n",
            " 'Fortune, Miss. Mabel Helen' 'Celotti, Mr. Francesco'\n",
            " 'Christmann, Mr. Emil' 'Andreasson, Mr. Paul Edvin'\n",
            " 'Chaffee, Mr. Herbert Fuller' 'Dean, Mr. Bertram Frank'\n",
            " 'Coxon, Mr. Daniel' 'Shorney, Mr. Charles Joseph'\n",
            " 'Goldschmidt, Mr. George B' 'Greenfield, Mr. William Bertram'\n",
            " 'Doling, Mrs. John T (Ada Julia Bone)' 'Kantor, Mr. Sinai'\n",
            " 'Petranec, Miss. Matilda' 'Petroff, Mr. Pastcho (\"Pentcho\")'\n",
            " 'White, Mr. Richard Frasar' 'Johansson, Mr. Gustaf Joel'\n",
            " 'Gustafsson, Mr. Anders Vilhelm' 'Mionoff, Mr. Stoytcho'\n",
            " 'Salkjelsvik, Miss. Anna Kristine' 'Moss, Mr. Albert Johan'\n",
            " 'Rekic, Mr. Tido' 'Moran, Miss. Bertha' 'Porter, Mr. Walter Chamberlain'\n",
            " 'Zabour, Miss. Hileni' 'Barton, Mr. David John' 'Jussila, Miss. Katriina'\n",
            " 'Attalah, Miss. Malake' 'Pekoniemi, Mr. Edvard' 'Connors, Mr. Patrick'\n",
            " 'Turpin, Mr. William John Robert' 'Baxter, Mr. Quigg Edmond'\n",
            " 'Andersson, Miss. Ellis Anna Maria' 'Hickman, Mr. Stanley George'\n",
            " 'Moore, Mr. Leonard Charles' 'Nasser, Mr. Nicholas' 'Webber, Miss. Susan'\n",
            " 'White, Mr. Percival Wayland' 'Nicola-Yarred, Master. Elias'\n",
            " 'McMahon, Mr. Martin' 'Madsen, Mr. Fridtjof Arne' 'Peter, Miss. Anna'\n",
            " 'Ekstrom, Mr. Johan' 'Drazenoic, Mr. Jozef'\n",
            " 'Coelho, Mr. Domingos Fernandeo'\n",
            " 'Robins, Mrs. Alexander A (Grace Charity Laury)'\n",
            " 'Weisz, Mrs. Leopold (Mathilde Francoise Pede)'\n",
            " 'Sobey, Mr. Samuel James Hayden' 'Richard, Mr. Emile'\n",
            " 'Newsom, Miss. Helen Monypeny' 'Futrelle, Mr. Jacques Heath'\n",
            " 'Osen, Mr. Olaf Elon' 'Giglio, Mr. Victor'\n",
            " 'Boulos, Mrs. Joseph (Sultana)' 'Nysten, Miss. Anna Sofia'\n",
            " 'Hakkarainen, Mrs. Pekka Pietari (Elin Matilda Dolck)'\n",
            " 'Burke, Mr. Jeremiah' 'Andrew, Mr. Edgardo Samuel'\n",
            " 'Nicholls, Mr. Joseph Charles'\n",
            " 'Andersson, Mr. August Edvard (\"Wennerstrom\")'\n",
            " 'Ford, Miss. Robina Maggie \"Ruby\"'\n",
            " 'Navratil, Mr. Michel (\"Louis M Hoffman\")'\n",
            " 'Byles, Rev. Thomas Roussel Davids' 'Bateman, Rev. Robert James'\n",
            " 'Pears, Mrs. Thomas (Edith Wearne)' 'Meo, Mr. Alfonzo'\n",
            " 'van Billiard, Mr. Austin Blyler' 'Olsen, Mr. Ole Martin'\n",
            " 'Williams, Mr. Charles Duane' 'Gilnagh, Miss. Katherine \"Katie\"'\n",
            " 'Corn, Mr. Harry' 'Smiljanic, Mr. Mile' 'Sage, Master. Thomas Henry'\n",
            " 'Cribb, Mr. John Hatfield'\n",
            " 'Watt, Mrs. James (Elizabeth \"Bessie\" Inglis Milne)'\n",
            " 'Bengtsson, Mr. John Viktor' 'Calic, Mr. Jovo'\n",
            " 'Panula, Master. Eino Viljami'\n",
            " 'Goldsmith, Master. Frank John William \"Frankie\"'\n",
            " 'Chibnall, Mrs. (Edith Martha Bowerman)'\n",
            " 'Skoog, Mrs. William (Anna Bernhardina Karlsson)' 'Baumann, Mr. John D'\n",
            " 'Ling, Mr. Lee' 'Van der hoef, Mr. Wyckoff' 'Rice, Master. Arthur'\n",
            " 'Johnson, Miss. Eleanor Ileen' 'Sivola, Mr. Antti Wilhelm'\n",
            " 'Smith, Mr. James Clinch' 'Klasen, Mr. Klas Albin'\n",
            " 'Lefebre, Master. Henry Forbes' 'Isham, Miss. Ann Elizabeth'\n",
            " 'Hale, Mr. Reginald' 'Leonard, Mr. Lionel' 'Sage, Miss. Constance Gladys'\n",
            " 'Pernot, Mr. Rene' 'Asplund, Master. Clarence Gustaf Hugo'\n",
            " 'Becker, Master. Richard F' 'Kink-Heilmann, Miss. Luise Gretchen'\n",
            " 'Rood, Mr. Hugh Roscoe'\n",
            " 'O\\'Brien, Mrs. Thomas (Johanna \"Hannah\" Godfrey)'\n",
            " 'Romaine, Mr. Charles Hallace (\"Mr C Rolmane\")' 'Bourke, Mr. John'\n",
            " 'Turcin, Mr. Stjepan' 'Pinsky, Mrs. (Rosa)' 'Carbines, Mr. William'\n",
            " 'Andersen-Jensen, Miss. Carla Christine Nielsine'\n",
            " 'Navratil, Master. Michel M' 'Brown, Mrs. James Joseph (Margaret Tobin)'\n",
            " 'Lurette, Miss. Elise' 'Mernagh, Mr. Robert'\n",
            " 'Olsen, Mr. Karl Siegwart Andreas' 'Madigan, Miss. Margaret \"Maggie\"'\n",
            " 'Yrois, Miss. Henriette (\"Mrs Harbeck\")' 'Vande Walle, Mr. Nestor Cyriel'\n",
            " 'Sage, Mr. Frederick' 'Johanson, Mr. Jakob Alfred' 'Youseff, Mr. Gerious'\n",
            " 'Cohen, Mr. Gurshon \"Gus\"' 'Strom, Miss. Telma Matilda'\n",
            " 'Backstrom, Mr. Karl Alfred' 'Albimona, Mr. Nassef Cassem'\n",
            " 'Carr, Miss. Helen \"Ellen\"' 'Blank, Mr. Henry' 'Ali, Mr. Ahmed'\n",
            " 'Cameron, Miss. Clear Annie' 'Perkin, Mr. John Henry'\n",
            " 'Givard, Mr. Hans Kristensen' 'Kiernan, Mr. Philip'\n",
            " 'Newell, Miss. Madeleine' 'Honkanen, Miss. Eliina'\n",
            " 'Jacobsohn, Mr. Sidney Samuel' 'Bazzani, Miss. Albina'\n",
            " 'Harris, Mr. Walter' 'Sunderland, Mr. Victor Francis'\n",
            " 'Bracken, Mr. James H' 'Green, Mr. George Henry' 'Nenkoff, Mr. Christo'\n",
            " 'Hoyt, Mr. Frederick Maxfield' 'Berglund, Mr. Karl Ivar Sven'\n",
            " 'Mellors, Mr. William John' 'Lovell, Mr. John Hall (\"Henry\")'\n",
            " 'Fahlstrom, Mr. Arne Jonas' 'Lefebre, Miss. Mathilde'\n",
            " 'Harris, Mrs. Henry Birkhardt (Irene Wallach)' 'Larsson, Mr. Bengt Edvin'\n",
            " 'Sjostedt, Mr. Ernst Adolf' 'Asplund, Miss. Lillian Gertrud'\n",
            " 'Leyson, Mr. Robert William Norman' 'Harknett, Miss. Alice Phoebe'\n",
            " 'Hold, Mr. Stephen' 'Collyer, Miss. Marjorie \"Lottie\"'\n",
            " 'Pengelly, Mr. Frederick William' 'Hunt, Mr. George Henry'\n",
            " 'Zabour, Miss. Thamine' 'Murphy, Miss. Katherine \"Kate\"'\n",
            " 'Coleridge, Mr. Reginald Charles' 'Maenpaa, Mr. Matti Alexanteri'\n",
            " 'Attalah, Mr. Sleiman' 'Minahan, Dr. William Edward'\n",
            " 'Lindahl, Miss. Agda Thorilda Viktoria' 'Hamalainen, Mrs. William (Anna)'\n",
            " 'Beckwith, Mr. Richard Leonard' 'Carter, Rev. Ernest Courtenay'\n",
            " 'Reed, Mr. James George' 'Strom, Mrs. Wilhelm (Elna Matilda Persson)'\n",
            " 'Stead, Mr. William Thomas' 'Lobb, Mr. William Arthur'\n",
            " 'Rosblom, Mrs. Viktor (Helena Wilhelmina)'\n",
            " 'Touma, Mrs. Darwis (Hanne Youssef Razi)'\n",
            " 'Thorne, Mrs. Gertrude Maybelle' 'Cherry, Miss. Gladys'\n",
            " 'Ward, Miss. Anna' 'Parrish, Mrs. (Lutie Davis)' 'Smith, Mr. Thomas'\n",
            " 'Asplund, Master. Edvin Rojj Felix' 'Taussig, Mr. Emil'\n",
            " 'Harrison, Mr. William' 'Henry, Miss. Delia' 'Reeves, Mr. David'\n",
            " 'Panula, Mr. Ernesti Arvid' 'Persson, Mr. Ernst Ulrik'\n",
            " 'Graham, Mrs. William Thompson (Edith Junkins)' 'Bissette, Miss. Amelia'\n",
            " 'Cairns, Mr. Alexander' 'Tornquist, Mr. William Henry'\n",
            " 'Mellinger, Mrs. (Elizabeth Anne Maidment)' 'Natsch, Mr. Charles H'\n",
            " 'Healy, Miss. Hanora \"Nora\"' 'Andrews, Miss. Kornelia Theodosia'\n",
            " 'Lindblom, Miss. Augusta Charlotta' 'Parkes, Mr. Francis \"Frank\"'\n",
            " 'Rice, Master. Eric' 'Abbott, Mrs. Stanton (Rosa Hunt)'\n",
            " 'Duane, Mr. Frank' 'Olsson, Mr. Nils Johan Goransson'\n",
            " 'de Pelsmaeker, Mr. Alfons' 'Dorking, Mr. Edward Arthur'\n",
            " 'Smith, Mr. Richard William' 'Stankovic, Mr. Ivan'\n",
            " 'de Mulder, Mr. Theodore' 'Naidenoff, Mr. Penko' 'Hosono, Mr. Masabumi'\n",
            " 'Connolly, Miss. Kate' 'Barber, Miss. Ellen \"Nellie\"'\n",
            " 'Bishop, Mrs. Dickinson H (Helen Walton)' 'Levy, Mr. Rene Jacques'\n",
            " 'Haas, Miss. Aloisia' 'Mineff, Mr. Ivan' 'Lewy, Mr. Ervin G'\n",
            " 'Hanna, Mr. Mansour' 'Allison, Miss. Helen Loraine'\n",
            " 'Saalfeld, Mr. Adolphe' 'Baxter, Mrs. James (Helene DeLaudeniere Chaput)'\n",
            " 'Kelly, Miss. Anna Katherine \"Annie Kate\"' 'McCoy, Mr. Bernard'\n",
            " 'Johnson, Mr. William Cahoone Jr' 'Keane, Miss. Nora A'\n",
            " 'Williams, Mr. Howard Hugh \"Harry\"' 'Allison, Master. Hudson Trevor'\n",
            " 'Fleming, Miss. Margaret'\n",
            " 'Penasco y Castellana, Mrs. Victor de Satode (Maria Josefa Perez de Soto y Vallejo)'\n",
            " 'Abelson, Mr. Samuel' 'Francatelli, Miss. Laura Mabel'\n",
            " 'Hays, Miss. Margaret Bechstein' 'Ryerson, Miss. Emily Borie'\n",
            " 'Lahtinen, Mrs. William (Anna Sylfven)' 'Hendekovic, Mr. Ignjac'\n",
            " 'Hart, Mr. Benjamin' 'Nilsson, Miss. Helmina Josefina'\n",
            " 'Kantor, Mrs. Sinai (Miriam Sternin)' 'Moraweck, Dr. Ernest'\n",
            " 'Wick, Miss. Mary Natalie'\n",
            " 'Spedden, Mrs. Frederic Oakley (Margaretta Corning Stone)'\n",
            " 'Dennis, Mr. Samuel' 'Danoff, Mr. Yoto' 'Slayter, Miss. Hilda Mary'\n",
            " 'Caldwell, Mrs. Albert Francis (Sylvia Mae Harbaugh)'\n",
            " 'Sage, Mr. George John Jr' 'Young, Miss. Marie Grice'\n",
            " 'Nysveen, Mr. Johan Hansen' 'Ball, Mrs. (Ada E Hall)'\n",
            " 'Goldsmith, Mrs. Frank John (Emily Alice Brown)'\n",
            " 'Hippach, Miss. Jean Gertrude' 'McCoy, Miss. Agnes' 'Partner, Mr. Austen'\n",
            " 'Graham, Mr. George Edward' 'Vander Planke, Mr. Leo Edmondus'\n",
            " 'Frauenthal, Mrs. Henry William (Clara Heinsheimer)' 'Denkoff, Mr. Mitto'\n",
            " 'Pears, Mr. Thomas Clinton' 'Burns, Miss. Elizabeth Margaret'\n",
            " 'Dahl, Mr. Karl Edwart' 'Blackwell, Mr. Stephen Weart'\n",
            " 'Navratil, Master. Edmond Roger' 'Fortune, Miss. Alice Elizabeth'\n",
            " 'Collander, Mr. Erik Gustaf' 'Sedgwick, Mr. Charles Frederick Waddington'\n",
            " 'Fox, Mr. Stanley Hubert' 'Brown, Miss. Amelia \"Mildred\"'\n",
            " 'Smith, Miss. Marion Elsie' 'Davison, Mrs. Thomas Henry (Mary E Finck)'\n",
            " 'Coutts, Master. William Loch \"William\"' 'Dimic, Mr. Jovan'\n",
            " 'Odahl, Mr. Nils Martin' 'Williams-Lambert, Mr. Fletcher Fellows'\n",
            " 'Elias, Mr. Tannous' 'Arnold-Franchi, Mr. Josef' 'Yousif, Mr. Wazli'\n",
            " 'Vanden Steen, Mr. Leo Peter' 'Bowerman, Miss. Elsie Edith'\n",
            " 'Funk, Miss. Annie Clemmer' 'McGovern, Miss. Mary'\n",
            " 'Mockler, Miss. Helen Mary \"Ellie\"' 'Skoog, Mr. Wilhelm'\n",
            " 'del Carlo, Mr. Sebastiano' 'Barbara, Mrs. (Catherine David)'\n",
            " 'Asim, Mr. Adola' \"O'Brien, Mr. Thomas\" 'Adahl, Mr. Mauritz Nils Martin'\n",
            " 'Warren, Mrs. Frank Manley (Anna Sophia Atkinson)'\n",
            " 'Moussa, Mrs. (Mantoura Boulos)' 'Jermyn, Miss. Annie'\n",
            " 'Aubart, Mme. Leontine Pauline' 'Harder, Mr. George Achilles'\n",
            " 'Wiklund, Mr. Jakob Alfred' 'Beavan, Mr. William Thomas'\n",
            " 'Ringhini, Mr. Sante' 'Palsson, Miss. Stina Viola'\n",
            " 'Meyer, Mrs. Edgar Joseph (Leila Saks)' 'Landergren, Miss. Aurora Adelia'\n",
            " 'Widener, Mr. Harry Elkins' 'Betros, Mr. Tannous'\n",
            " 'Gustafsson, Mr. Karl Gideon' 'Bidois, Miss. Rosalie'\n",
            " 'Nakid, Miss. Maria (\"Mary\")' 'Tikkanen, Mr. Juho'\n",
            " 'Holverson, Mrs. Alexander Oskar (Mary Aline Towner)'\n",
            " 'Plotcharsky, Mr. Vasil' 'Davies, Mr. Charles Henry'\n",
            " 'Goodwin, Master. Sidney Leonard' 'Buss, Miss. Kate'\n",
            " 'Sadlier, Mr. Matthew' 'Lehmann, Miss. Bertha'\n",
            " 'Carter, Mr. William Ernest' 'Jansson, Mr. Carl Olof'\n",
            " 'Gustafsson, Mr. Johan Birger' 'Newell, Miss. Marjorie'\n",
            " 'Sandstrom, Mrs. Hjalmar (Agnes Charlotta Bengtsson)'\n",
            " 'Johansson, Mr. Erik' 'Olsson, Miss. Elina' 'McKane, Mr. Peter David'\n",
            " 'Pain, Dr. Alfred' 'Trout, Mrs. William H (Jessie L)'\n",
            " 'Niskanen, Mr. Juha' 'Adams, Mr. John' 'Jussila, Miss. Mari Aina'\n",
            " 'Hakkarainen, Mr. Pekka Pietari' 'Oreskovic, Miss. Marija'\n",
            " 'Gale, Mr. Shadrach' 'Widegren, Mr. Carl/Charles Peter'\n",
            " 'Richards, Master. William Rowe' 'Birkeland, Mr. Hans Martin Monsen'\n",
            " 'Lefebre, Miss. Ida' 'Sdycoff, Mr. Todor' 'Hart, Mr. Henry'\n",
            " 'Minahan, Miss. Daisy E' 'Cunningham, Mr. Alfred Fleming'\n",
            " 'Sundman, Mr. Johan Julian' 'Meek, Mrs. Thomas (Annie Louise Rowley)'\n",
            " 'Drew, Mrs. James Vivian (Lulu Thorne Christian)'\n",
            " 'Silven, Miss. Lyyli Karoliina' 'Matthews, Mr. William John'\n",
            " 'Van Impe, Miss. Catharina' 'Gheorgheff, Mr. Stanio'\n",
            " 'Charters, Mr. David' 'Zimmerman, Mr. Leo'\n",
            " 'Danbom, Mrs. Ernst Gilbert (Anna Sigrid Maria Brogren)'\n",
            " 'Rosblom, Mr. Viktor Richard' 'Wiseman, Mr. Phillippe'\n",
            " 'Clarke, Mrs. Charles V (Ada Maria Winfield)'\n",
            " 'Phillips, Miss. Kate Florence (\"Mrs Kate Louise Phillips Marshall\")'\n",
            " 'Flynn, Mr. James' 'Pickard, Mr. Berk (Berk Trembisky)'\n",
            " 'Bjornstrom-Steffansson, Mr. Mauritz Hakan'\n",
            " 'Thorneycroft, Mrs. Percival (Florence Kate White)'\n",
            " 'Louch, Mrs. Charles Alexander (Alice Adelaide Slow)'\n",
            " 'Kallio, Mr. Nikolai Erland' 'Silvey, Mr. William Baird'\n",
            " 'Carter, Miss. Lucile Polk' 'Ford, Miss. Doolina Margaret \"Daisy\"'\n",
            " 'Richards, Mrs. Sidney (Emily Hocking)' 'Fortune, Mr. Mark'\n",
            " 'Kvillner, Mr. Johan Henrik Johannesson'\n",
            " 'Hart, Mrs. Benjamin (Esther Ada Bloomfield)' 'Hampe, Mr. Leon'\n",
            " 'Petterson, Mr. Johan Emil' 'Reynaldo, Ms. Encarnacion'\n",
            " 'Johannesen-Bratthammer, Mr. Bernt' 'Dodge, Master. Washington'\n",
            " 'Mellinger, Miss. Madeleine Violet' 'Seward, Mr. Frederic Kimber'\n",
            " 'Baclini, Miss. Marie Catherine' 'Peuchen, Major. Arthur Godfrey'\n",
            " 'West, Mr. Edwy Arthur' 'Hagland, Mr. Ingvald Olai Olsen'\n",
            " 'Foreman, Mr. Benjamin Laventall' 'Goldenberg, Mr. Samuel L'\n",
            " 'Peduzzi, Mr. Joseph' 'Jalsevac, Mr. Ivan' 'Millet, Mr. Francis Davis'\n",
            " 'Kenyon, Mrs. Frederick R (Marion)' 'Toomey, Miss. Ellen'\n",
            " \"O'Connor, Mr. Maurice\" 'Anderson, Mr. Harry' 'Morley, Mr. William'\n",
            " 'Gee, Mr. Arthur H' 'Milling, Mr. Jacob Christian' 'Maisner, Mr. Simon'\n",
            " 'Goncalves, Mr. Manuel Estanslas' 'Campbell, Mr. William'\n",
            " 'Smart, Mr. John Montgomery' 'Scanlan, Mr. James'\n",
            " 'Baclini, Miss. Helene Barbara' 'Keefe, Mr. Arthur' 'Cacic, Mr. Luka'\n",
            " 'West, Mrs. Edwy Arthur (Ada Mary Worth)'\n",
            " 'Jerwan, Mrs. Amin S (Marie Marthe Thuillard)'\n",
            " 'Strandberg, Miss. Ida Sofia' 'Clifford, Mr. George Quincy'\n",
            " 'Renouf, Mr. Peter Henry' 'Braund, Mr. Lewis Richard'\n",
            " 'Karlsson, Mr. Nils August' 'Hirvonen, Miss. Hildur E'\n",
            " 'Goodwin, Master. Harold Victor' 'Frost, Mr. Anthony Wood \"Archie\"'\n",
            " 'Rouse, Mr. Richard Henry' 'Turkula, Mrs. (Hedwig)'\n",
            " 'Bishop, Mr. Dickinson H' 'Lefebre, Miss. Jeannie'\n",
            " 'Hoyt, Mrs. Frederick Maxfield (Jane Anne Forby)'\n",
            " 'Kent, Mr. Edward Austin' 'Somerton, Mr. Francis William'\n",
            " 'Coutts, Master. Eden Leslie \"Neville\"'\n",
            " 'Hagland, Mr. Konrad Mathias Reiersen' 'Windelov, Mr. Einar'\n",
            " 'Molson, Mr. Harry Markland' 'Artagaveytia, Mr. Ramon'\n",
            " 'Stanley, Mr. Edward Roland' 'Yousseff, Mr. Gerious'\n",
            " 'Eustis, Miss. Elizabeth Mussey' 'Shellard, Mr. Frederick William'\n",
            " 'Allison, Mrs. Hudson J C (Bessie Waldo Daniels)' 'Svensson, Mr. Olof'\n",
            " 'Calic, Mr. Petar' 'Canavan, Miss. Mary' \"O'Sullivan, Miss. Bridget Mary\"\n",
            " 'Laitinen, Miss. Kristina Sofia' 'Maioni, Miss. Roberta'\n",
            " 'Penasco y Castellana, Mr. Victor de Satode'\n",
            " 'Quick, Mrs. Frederick Charles (Jane Richards)'\n",
            " 'Bradley, Mr. George (\"George Arthur Brayton\")'\n",
            " 'Olsen, Mr. Henry Margido' 'Lang, Mr. Fang' 'Daly, Mr. Eugene Patrick'\n",
            " 'Webber, Mr. James' 'McGough, Mr. James Robert'\n",
            " 'Rothschild, Mrs. Martin (Elizabeth L. Barrett)' 'Coleff, Mr. Satio'\n",
            " 'Walker, Mr. William Anderson' 'Lemore, Mrs. (Amelia Milley)'\n",
            " 'Ryan, Mr. Patrick'\n",
            " 'Angle, Mrs. William A (Florence \"Mary\" Agnes Hughes)'\n",
            " 'Pavlovic, Mr. Stefo' 'Perreault, Miss. Anne' 'Vovk, Mr. Janko'\n",
            " 'Lahoud, Mr. Sarkis' 'Hippach, Mrs. Louis Albert (Ida Sophia Fischer)'\n",
            " 'Kassem, Mr. Fared' 'Farrell, Mr. James' 'Ridsdale, Miss. Lucy'\n",
            " 'Farthing, Mr. John' 'Salonen, Mr. Johan Werner'\n",
            " 'Hocking, Mr. Richard George' 'Quick, Miss. Phyllis May'\n",
            " 'Toufik, Mr. Nakli' 'Elias, Mr. Joseph Jr'\n",
            " 'Peter, Mrs. Catherine (Catherine Rizk)' 'Cacic, Miss. Marija'\n",
            " 'Hart, Miss. Eva Miriam' 'Butt, Major. Archibald Willingham'\n",
            " 'LeRoy, Miss. Bertha' 'Risien, Mr. Samuel Beard'\n",
            " 'Frolicher, Miss. Hedwig Margaritha' 'Crosby, Miss. Harriet R'\n",
            " 'Andersson, Miss. Ingeborg Constanzia'\n",
            " 'Andersson, Miss. Sigrid Elisabeth' 'Beane, Mr. Edward'\n",
            " 'Douglas, Mr. Walter Donald' 'Nicholson, Mr. Arthur Ernest'\n",
            " 'Beane, Mrs. Edward (Ethel Clarke)' 'Padro y Manent, Mr. Julian'\n",
            " 'Goldsmith, Mr. Frank John' 'Davies, Master. John Morgan Jr'\n",
            " 'Thayer, Mr. John Borland Jr' 'Sharp, Mr. Percival James R'\n",
            " \"O'Brien, Mr. Timothy\" 'Leeni, Mr. Fahim (\"Philip Zenni\")'\n",
            " 'Ohman, Miss. Velin' 'Wright, Mr. George'\n",
            " 'Duff Gordon, Lady. (Lucille Christiana Sutherland) (\"Mrs Morgan\")'\n",
            " 'Robbins, Mr. Victor' 'Taussig, Mrs. Emil (Tillie Mandelbaum)'\n",
            " 'de Messemaeker, Mrs. Guillaume Joseph (Emma)' 'Morrow, Mr. Thomas Rowan'\n",
            " 'Sivic, Mr. Husein' 'Norman, Mr. Robert Douglas' 'Simmons, Mr. John'\n",
            " 'Meanwell, Miss. (Marion Ogden)' 'Davies, Mr. Alfred J'\n",
            " 'Stoytcheff, Mr. Ilia' 'Palsson, Mrs. Nils (Alma Cornelia Berglund)'\n",
            " 'Doharr, Mr. Tannous' 'Jonsson, Mr. Carl' 'Harris, Mr. George'\n",
            " 'Appleton, Mrs. Edward Dale (Charlotte Lamson)'\n",
            " 'Flynn, Mr. John Irwin (\"Irving\")' 'Kelly, Miss. Mary'\n",
            " 'Rush, Mr. Alfred George John' 'Patchett, Mr. George'\n",
            " 'Garside, Miss. Ethel' 'Silvey, Mrs. William Baird (Alice Munger)'\n",
            " 'Caram, Mrs. Joseph (Maria Elias)' 'Jussila, Mr. Eiriik'\n",
            " 'Christy, Miss. Julie Rachel'\n",
            " 'Thayer, Mrs. John Borland (Marian Longstreth Morris)'\n",
            " 'Downton, Mr. William James' 'Ross, Mr. John Hugo' 'Paulner, Mr. Uscher'\n",
            " 'Taussig, Miss. Ruth' 'Jarvis, Mr. John Denzil'\n",
            " 'Frolicher-Stehli, Mr. Maxmillian' 'Gilinski, Mr. Eliezer'\n",
            " 'Murdlin, Mr. Joseph' 'Rintamaki, Mr. Matti'\n",
            " 'Stephenson, Mrs. Walter Bertram (Martha Eustis)'\n",
            " 'Elsbury, Mr. William James' 'Bourke, Miss. Mary'\n",
            " 'Chapman, Mr. John Henry' 'Van Impe, Mr. Jean Baptiste'\n",
            " 'Leitch, Miss. Jessie Wills' 'Johnson, Mr. Alfred' 'Boulos, Mr. Hanna'\n",
            " 'Duff Gordon, Sir. Cosmo Edmund (\"Mr Morgan\")'\n",
            " 'Jacobsohn, Mrs. Sidney Samuel (Amy Frances Christy)'\n",
            " 'Slabenoff, Mr. Petco' 'Harrington, Mr. Charles H'\n",
            " 'Torber, Mr. Ernst William' 'Homer, Mr. Harry (\"Mr E Haven\")'\n",
            " 'Lindell, Mr. Edvard Bengtsson' 'Karaic, Mr. Milan'\n",
            " 'Daniel, Mr. Robert Williams'\n",
            " 'Laroche, Mrs. Joseph (Juliette Marie Louise Lafargue)'\n",
            " 'Shutes, Miss. Elizabeth W'\n",
            " 'Andersson, Mrs. Anders Johan (Alfrida Konstantia Brogren)'\n",
            " 'Jardin, Mr. Jose Neto' 'Murphy, Miss. Margaret Jane' 'Horgan, Mr. John'\n",
            " 'Brocklebank, Mr. William Alfred' 'Herman, Miss. Alice'\n",
            " 'Danbom, Mr. Ernst Gilbert'\n",
            " 'Lobb, Mrs. William Arthur (Cordelia K Stanlick)'\n",
            " 'Becker, Miss. Marion Louise' 'Gavey, Mr. Lawrence' 'Yasbeck, Mr. Antoni'\n",
            " 'Kimball, Mr. Edwin Nelson Jr' 'Nakid, Mr. Sahid'\n",
            " 'Hansen, Mr. Henry Damsgaard' 'Bowen, Mr. David John \"Dai\"'\n",
            " 'Sutton, Mr. Frederick' 'Kirkland, Rev. Charles Leonard'\n",
            " 'Longley, Miss. Gretchen Fiske' 'Bostandyeff, Mr. Guentcho'\n",
            " \"O'Connell, Mr. Patrick D\" 'Barkworth, Mr. Algernon Henry Wilson'\n",
            " 'Lundahl, Mr. Johan Svensson' 'Stahelin-Maeglin, Dr. Max'\n",
            " 'Parr, Mr. William Henry Marsh' 'Skoog, Miss. Mabel' 'Davis, Miss. Mary'\n",
            " 'Leinonen, Mr. Antti Gustaf' 'Collyer, Mr. Harvey'\n",
            " 'Panula, Mrs. Juha (Maria Emilia Ojala)' 'Thorneycroft, Mr. Percival'\n",
            " 'Jensen, Mr. Hans Peder' 'Sagesser, Mlle. Emma'\n",
            " 'Skoog, Miss. Margit Elizabeth' 'Foo, Mr. Choong'\n",
            " 'Baclini, Miss. Eugenie' 'Harper, Mr. Henry Sleeper' 'Cor, Mr. Liudevit'\n",
            " 'Simonius-Blumer, Col. Oberst Alfons' 'Willey, Mr. Edward'\n",
            " 'Stanley, Miss. Amy Zillah Elsie' 'Mitkoff, Mr. Mito'\n",
            " 'Doling, Miss. Elsie' 'Kalvik, Mr. Johannes Halvorsen'\n",
            " 'O\\'Leary, Miss. Hanora \"Norah\"' 'Hegarty, Miss. Hanora \"Nora\"'\n",
            " 'Hickman, Mr. Leonard Mark' 'Radeff, Mr. Alexander'\n",
            " 'Bourke, Mrs. John (Catherine)' 'Eitemiller, Mr. George Floyd'\n",
            " 'Newell, Mr. Arthur Webster' 'Frauenthal, Dr. Henry William'\n",
            " 'Badt, Mr. Mohamed' 'Colley, Mr. Edward Pomeroy' 'Coleff, Mr. Peju'\n",
            " 'Lindqvist, Mr. Eino William' 'Hickman, Mr. Lewis'\n",
            " 'Butler, Mr. Reginald Fenton' 'Rommetvedt, Mr. Knud Paust'\n",
            " 'Cook, Mr. Jacob' 'Taylor, Mrs. Elmer Zebley (Juliet Cummins Wright)'\n",
            " 'Brown, Mrs. Thomas William Solomon (Elizabeth Catherine Ford)'\n",
            " 'Davidson, Mr. Thornton' 'Mitchell, Mr. Henry Michael'\n",
            " 'Wilhelms, Mr. Charles' 'Watson, Mr. Ennis Hastings'\n",
            " 'Edvardsson, Mr. Gustaf Hjalmar' 'Sawyer, Mr. Frederick Charles'\n",
            " 'Turja, Miss. Anna Sofia' 'Goodwin, Mrs. Frederick (Augusta Tyler)'\n",
            " 'Cardeza, Mr. Thomas Drake Martinez' 'Peters, Miss. Katie'\n",
            " 'Hassab, Mr. Hammad' 'Olsvigen, Mr. Thor Anderson'\n",
            " 'Goodwin, Mr. Charles Edward' 'Brown, Mr. Thomas William Solomon'\n",
            " 'Laroche, Mr. Joseph Philippe Lemercier' 'Panula, Mr. Jaako Arnold'\n",
            " 'Dakic, Mr. Branko' 'Fischer, Mr. Eberhard Thelander'\n",
            " 'Madill, Miss. Georgette Alexandra' 'Dick, Mr. Albert Adrian'\n",
            " 'Karun, Miss. Manca' 'Lam, Mr. Ali' 'Saad, Mr. Khalil' 'Weir, Col. John'\n",
            " 'Chapman, Mr. Charles Henry' 'Kelly, Mr. James'\n",
            " 'Mullens, Miss. Katherine \"Katie\"' 'Thayer, Mr. John Borland'\n",
            " 'Humblen, Mr. Adolf Mathias Nicolai Olsen'\n",
            " 'Astor, Mrs. John Jacob (Madeleine Talmadge Force)'\n",
            " 'Silverthorne, Mr. Spencer Victor' 'Barbara, Miss. Saiide'\n",
            " 'Gallagher, Mr. Martin' 'Hansen, Mr. Henrik Juul'\n",
            " 'Morley, Mr. Henry Samuel (\"Mr Henry Marshall\")'\n",
            " 'Kelly, Mrs. Florence \"Fannie\"' 'Calderhead, Mr. Edward Pennington'\n",
            " 'Cleaver, Miss. Alice'\n",
            " 'Moubarek, Master. Halim Gonios (\"William George\")'\n",
            " 'Mayne, Mlle. Berthe Antonine (\"Mrs de Villiers\")' 'Klaber, Mr. Herman'\n",
            " 'Taylor, Mr. Elmer Zebley' 'Larsson, Mr. August Viktor'\n",
            " 'Greenberg, Mr. Samuel' 'Soholt, Mr. Peter Andreas Lauritz Andersen'\n",
            " 'Endres, Miss. Caroline Louise' 'Troutt, Miss. Edwina Celia \"Winnie\"'\n",
            " 'McEvoy, Mr. Michael' 'Johnson, Mr. Malkolm Joackim'\n",
            " 'Harper, Miss. Annie Jessie \"Nina\"' 'Jensen, Mr. Svend Lauritz'\n",
            " 'Gillespie, Mr. William Henry' 'Hodges, Mr. Henry Price'\n",
            " 'Chambers, Mr. Norman Campbell' 'Oreskovic, Mr. Luka'\n",
            " 'Renouf, Mrs. Peter Henry (Lillian Jefferys)' 'Mannion, Miss. Margareth'\n",
            " 'Bryhl, Mr. Kurt Arnold Gottfrid' 'Ilmakangas, Miss. Pieta Sofia'\n",
            " 'Allen, Miss. Elisabeth Walton' 'Hassan, Mr. Houssein G N'\n",
            " 'Knight, Mr. Robert J' 'Berriman, Mr. William John'\n",
            " 'Troupiansky, Mr. Moses Aaron' 'Williams, Mr. Leslie'\n",
            " 'Ford, Mrs. Edward (Margaret Ann Watson)' 'Lesurer, Mr. Gustave J'\n",
            " 'Ivanoff, Mr. Kanio' 'Nankoff, Mr. Minko' 'Hawksford, Mr. Walter James'\n",
            " 'Cavendish, Mr. Tyrell William' 'Ryerson, Miss. Susan Parker \"Suzette\"'\n",
            " 'McNamee, Mr. Neal' 'Stranden, Mr. Juho' 'Crosby, Capt. Edward Gifford'\n",
            " 'Abbott, Mr. Rossmore Edward' 'Sinkkonen, Miss. Anna'\n",
            " 'Marvin, Mr. Daniel Warner' 'Connaghton, Mr. Michael' 'Wells, Miss. Joan'\n",
            " 'Moor, Master. Meier' 'Vande Velde, Mr. Johannes Joseph'\n",
            " 'Jonkoff, Mr. Lalio' 'Herman, Mrs. Samuel (Jane Laver)'\n",
            " 'Hamalainen, Master. Viljo' 'Carlsson, Mr. August Sigfrid'\n",
            " 'Bailey, Mr. Percy Andrew' 'Theobald, Mr. Thomas Leonard'\n",
            " 'Rothes, the Countess. of (Lucy Noel Martha Dyer-Edwards)'\n",
            " 'Garfirth, Mr. John' 'Nirva, Mr. Iisakki Antino Aijo'\n",
            " 'Barah, Mr. Hanna Assi' 'Carter, Mrs. William Ernest (Lucile Polk)'\n",
            " 'Eklund, Mr. Hans Linus' 'Hogeboom, Mrs. John C (Anna Andrews)'\n",
            " 'Brewe, Dr. Arthur Jackson' 'Mangan, Miss. Mary' 'Moran, Mr. Daniel J'\n",
            " 'Gronnestad, Mr. Daniel Danielsen' 'Lievens, Mr. Rene Aime'\n",
            " 'Jensen, Mr. Niels Peder' 'Mack, Mrs. (Mary)' 'Elias, Mr. Dibo'\n",
            " 'Hocking, Mrs. Elizabeth (Eliza Needs)'\n",
            " 'Myhrman, Mr. Pehr Fabian Oliver Malkolm' 'Tobin, Mr. Roger'\n",
            " 'Emanuel, Miss. Virginia Ethel' 'Kilgannon, Mr. Thomas J'\n",
            " 'Robert, Mrs. Edward Scott (Elisabeth Walton McMillan)'\n",
            " 'Ayoub, Miss. Banoura' 'Dick, Mrs. Albert Adrian (Vera Gillespie)'\n",
            " 'Long, Mr. Milton Clyde' 'Johnston, Mr. Andrew G' 'Ali, Mr. William'\n",
            " 'Harmer, Mr. Abraham (David Lishin)' 'Sjoblom, Miss. Anna Sofia'\n",
            " 'Rice, Master. George Hugh' 'Dean, Master. Bertram Vere'\n",
            " 'Guggenheim, Mr. Benjamin' 'Keane, Mr. Andrew \"Andy\"'\n",
            " 'Gaskell, Mr. Alfred' 'Sage, Miss. Stella Anna'\n",
            " 'Hoyt, Mr. William Fisher' 'Dantcheff, Mr. Ristiu' 'Otter, Mr. Richard'\n",
            " 'Leader, Dr. Alice (Farnham)' 'Osman, Mrs. Mara'\n",
            " 'Ibrahim Shawah, Mr. Yousseff'\n",
            " 'Van Impe, Mrs. Jean Baptiste (Rosalie Paula Govaert)'\n",
            " 'Ponesell, Mr. Martin' 'Collyer, Mrs. Harvey (Charlotte Annie Tate)'\n",
            " 'Carter, Master. William Thornton II' 'Thomas, Master. Assad Alexander'\n",
            " 'Hedman, Mr. Oskar Arvid' 'Johansson, Mr. Karl Johan'\n",
            " 'Andrews, Mr. Thomas Jr' 'Pettersson, Miss. Ellen Natalia'\n",
            " 'Meyer, Mr. August' 'Chambers, Mrs. Norman Campbell (Bertha Griggs)'\n",
            " 'Alexander, Mr. William' 'Lester, Mr. James' 'Slemen, Mr. Richard James'\n",
            " 'Andersson, Miss. Ebba Iris Alfrida' 'Tomlin, Mr. Ernest Portage'\n",
            " 'Fry, Mr. Richard' 'Heininen, Miss. Wendla Maria' 'Mallet, Mr. Albert'\n",
            " 'Holm, Mr. John Fredrik Alexander' 'Skoog, Master. Karl Thorsten'\n",
            " 'Hays, Mrs. Charles Melville (Clara Jennings Gregg)' 'Lulic, Mr. Nikola'\n",
            " 'Reuchlin, Jonkheer. John George' 'Moor, Mrs. (Beila)'\n",
            " 'Panula, Master. Urho Abraham' 'Flynn, Mr. John' 'Lam, Mr. Len'\n",
            " 'Mallet, Master. Andre' 'McCormack, Mr. Thomas Joseph'\n",
            " 'Stone, Mrs. George Nelson (Martha Evelyn)'\n",
            " 'Yasbeck, Mrs. Antoni (Selini Alexander)'\n",
            " 'Richards, Master. George Sibley' 'Saad, Mr. Amin'\n",
            " 'Augustsson, Mr. Albert' 'Allum, Mr. Owen George'\n",
            " 'Compton, Miss. Sara Rebecca' 'Pasic, Mr. Jakob' 'Sirota, Mr. Maurice'\n",
            " 'Chip, Mr. Chang' 'Marechal, Mr. Pierre' 'Alhomaki, Mr. Ilmari Rudolf'\n",
            " 'Mudd, Mr. Thomas Charles' 'Serepeca, Miss. Augusta'\n",
            " 'Lemberopolous, Mr. Peter L' 'Culumovic, Mr. Jeso' 'Abbing, Mr. Anthony'\n",
            " 'Sage, Mr. Douglas Bullen' 'Markoff, Mr. Marin' 'Harper, Rev. John'\n",
            " 'Goldenberg, Mrs. Samuel L (Edwiga Grabowska)'\n",
            " 'Andersson, Master. Sigvard Harald Elias' 'Svensson, Mr. Johan'\n",
            " 'Boulos, Miss. Nourelain' 'Lines, Miss. Mary Conover'\n",
            " 'Carter, Mrs. Ernest Courtenay (Lilian Hughes)'\n",
            " 'Aks, Mrs. Sam (Leah Rosen)' 'Wick, Mrs. George Dennick (Mary Hitchcock)'\n",
            " 'Daly, Mr. Peter Denis ' 'Baclini, Mrs. Solomon (Latifa Qurban)'\n",
            " 'Razi, Mr. Raihed' 'Hansen, Mr. Claus Peter'\n",
            " 'Giles, Mr. Frederick Edward'\n",
            " 'Swift, Mrs. Frederick Joel (Margaret Welles Barron)'\n",
            " 'Sage, Miss. Dorothy Edith \"Dolly\"' 'Gill, Mr. John William'\n",
            " 'Bystrom, Mrs. (Karolina)' 'Duran y More, Miss. Asuncion'\n",
            " 'Roebling, Mr. Washington Augustus II' 'van Melkebeke, Mr. Philemon'\n",
            " 'Johnson, Master. Harold Theodor' 'Balkic, Mr. Cerin'\n",
            " 'Beckwith, Mrs. Richard Leonard (Sallie Monypeny)'\n",
            " 'Carlsson, Mr. Frans Olof' 'Vander Cruyssen, Mr. Victor'\n",
            " 'Abelson, Mrs. Samuel (Hannah Wizosky)'\n",
            " 'Najib, Miss. Adele Kiamie \"Jane\"' 'Gustafsson, Mr. Alfred Ossian'\n",
            " 'Petroff, Mr. Nedelio' 'Laleff, Mr. Kristo'\n",
            " 'Potter, Mrs. Thomas Jr (Lily Alexenia Wilson)'\n",
            " 'Shelley, Mrs. William (Imanita Parrish Hall)' 'Markun, Mr. Johann'\n",
            " 'Dahlberg, Miss. Gerda Ulrika' 'Banfield, Mr. Frederick James'\n",
            " 'Sutehall, Mr. Henry Jr' 'Rice, Mrs. William (Margaret Norton)'\n",
            " 'Montvila, Rev. Juozas' 'Graham, Miss. Margaret Edith'\n",
            " 'Johnston, Miss. Catherine Helen \"Carrie\"' 'Behr, Mr. Karl Howell'\n",
            " 'Dooley, Mr. Patrick']\n",
            "Sex ['male' 'female']\n",
            "Age [22.         38.         26.         35.         29.69911765 54.\n",
            "  2.         27.         14.          4.         58.         20.\n",
            " 39.         55.         31.         34.         15.         28.\n",
            "  8.         19.         40.         66.         42.         21.\n",
            " 18.          3.          7.         49.         29.         65.\n",
            " 28.5         5.         11.         45.         17.         32.\n",
            " 16.         25.          0.83       30.         33.         23.\n",
            " 24.         46.         59.         71.         37.         47.\n",
            " 14.5        70.5        32.5        12.          9.         36.5\n",
            " 51.         55.5        40.5        44.          1.         61.\n",
            " 56.         50.         36.         45.5        20.5        62.\n",
            " 41.         52.         63.         23.5         0.92       43.\n",
            " 60.         10.         64.         13.         48.          0.75\n",
            " 53.         57.         80.         70.         24.5         6.\n",
            "  0.67       30.5         0.42       34.5        74.        ]\n",
            "SibSp [1 0 3 4 2 5 8]\n",
            "Parch [0 1 2 5 3 4 6]\n",
            "Ticket ['A/5 21171' 'PC 17599' 'STON/O2. 3101282' '113803' '373450' '330877'\n",
            " '17463' '349909' '347742' '237736' 'PP 9549' '113783' 'A/5. 2151'\n",
            " '347082' '350406' '248706' '382652' '244373' '345763' '2649' '239865'\n",
            " '248698' '330923' '113788' '347077' '2631' '19950' '330959' '349216'\n",
            " 'PC 17601' 'PC 17569' '335677' 'C.A. 24579' 'PC 17604' '113789' '2677'\n",
            " 'A./5. 2152' '345764' '2651' '7546' '11668' '349253' 'SC/Paris 2123'\n",
            " '330958' 'S.C./A.4. 23567' '370371' '14311' '2662' '349237' '3101295'\n",
            " 'A/4. 39886' 'PC 17572' '2926' '113509' '19947' 'C.A. 31026' '2697'\n",
            " 'C.A. 34651' 'CA 2144' '2669' '113572' '36973' '347088' 'PC 17605' '2661'\n",
            " 'C.A. 29395' 'S.P. 3464' '3101281' '315151' 'C.A. 33111' 'S.O.C. 14879'\n",
            " '2680' '1601' '348123' '349208' '374746' '248738' '364516' '345767'\n",
            " '345779' '330932' '113059' 'SO/C 14885' '3101278' 'W./C. 6608'\n",
            " 'SOTON/OQ 392086' '343275' '343276' '347466' 'W.E.P. 5734' 'C.A. 2315'\n",
            " '364500' '374910' 'PC 17754' 'PC 17759' '231919' '244367' '349245'\n",
            " '349215' '35281' '7540' '3101276' '349207' '343120' '312991' '349249'\n",
            " '371110' '110465' '2665' '324669' '4136' '2627' 'STON/O 2. 3101294'\n",
            " '370369' 'PC 17558' 'A4. 54510' '27267' '370372' 'C 17369' '2668'\n",
            " '347061' '349241' 'SOTON/O.Q. 3101307' 'A/5. 3337' '228414' 'C.A. 29178'\n",
            " 'SC/PARIS 2133' '11752' '7534' 'PC 17593' '2678' '347081'\n",
            " 'STON/O2. 3101279' '365222' '231945' 'C.A. 33112' '350043' '230080'\n",
            " '244310' 'S.O.P. 1166' '113776' 'A.5. 11206' 'A/5. 851' 'Fa 265302'\n",
            " 'PC 17597' '35851' 'SOTON/OQ 392090' '315037' 'CA. 2343' '371362'\n",
            " 'C.A. 33595' '347068' '315093' '363291' '113505' 'PC 17318' '111240'\n",
            " 'STON/O 2. 3101280' '17764' '350404' '4133' 'PC 17595' '250653' 'LINE'\n",
            " 'SC/PARIS 2131' '230136' '315153' '113767' '370365' '111428' '364849'\n",
            " '349247' '234604' '28424' '350046' 'PC 17610' '368703' '4579' '370370'\n",
            " '248747' '345770' '3101264' '2628' 'A/5 3540' '347054' '2699' '367231'\n",
            " '112277' 'SOTON/O.Q. 3101311' 'F.C.C. 13528' 'A/5 21174' '250646'\n",
            " '367229' '35273' 'STON/O2. 3101283' '243847' '11813' 'W/C 14208'\n",
            " 'SOTON/OQ 392089' '220367' '21440' '349234' '19943' 'PP 4348' 'SW/PP 751'\n",
            " 'A/5 21173' '236171' '347067' '237442' 'C.A. 29566' 'W./C. 6609' '26707'\n",
            " 'C.A. 31921' '28665' 'SCO/W 1585' '367230' 'W./C. 14263'\n",
            " 'STON/O 2. 3101275' '2694' '19928' '347071' '250649' '11751' '244252'\n",
            " '362316' '113514' 'A/5. 3336' '370129' '2650' 'PC 17585' '110152'\n",
            " 'PC 17755' '230433' '384461' '110413' '112059' '382649' 'C.A. 17248'\n",
            " '347083' 'PC 17582' 'PC 17760' '113798' '250644' 'PC 17596' '370375'\n",
            " '13502' '347073' '239853' 'C.A. 2673' '336439' '347464' '345778'\n",
            " 'A/5. 10482' '113056' '349239' '345774' '349206' '237798' '370373'\n",
            " '19877' '11967' 'SC/Paris 2163' '349236' '349233' 'PC 17612' '2693'\n",
            " '113781' '19988' '9234' '367226' '226593' 'A/5 2466' '17421' 'PC 17758'\n",
            " 'P/PP 3381' 'PC 17485' '11767' 'PC 17608' '250651' '349243'\n",
            " 'F.C.C. 13529' '347470' '29011' '36928' '16966' 'A/5 21172' '349219'\n",
            " '234818' '345364' '28551' '111361' '113043' 'PC 17611' '349225' '7598'\n",
            " '113784' '248740' '244361' '229236' '248733' '31418' '386525'\n",
            " 'C.A. 37671' '315088' '7267' '113510' '2695' '2647' '345783' '237671'\n",
            " '330931' '330980' 'SC/PARIS 2167' '2691' 'SOTON/O.Q. 3101310' 'C 7076'\n",
            " '110813' '2626' '14313' 'PC 17477' '11765' '3101267' '323951' 'C 7077'\n",
            " '113503' '2648' '347069' 'PC 17757' '2653' 'STON/O 2. 3101293' '349227'\n",
            " '27849' '367655' 'SC 1748' '113760' '350034' '3101277' '350052' '350407'\n",
            " '28403' '244278' '240929' 'STON/O 2. 3101289' '341826' '4137' '315096'\n",
            " '28664' '347064' '29106' '312992' '349222' '394140' 'STON/O 2. 3101269'\n",
            " '343095' '28220' '250652' '28228' '345773' '349254' 'A/5. 13032' '315082'\n",
            " '347080' 'A/4. 34244' '2003' '250655' '364851' 'SOTON/O.Q. 392078'\n",
            " '110564' '376564' 'SC/AH 3085' 'STON/O 2. 3101274' '13507' 'C.A. 18723'\n",
            " '345769' '347076' '230434' '65306' '33638' '113794' '2666' '113786'\n",
            " '65303' '113051' '17453' 'A/5 2817' '349240' '13509' '17464'\n",
            " 'F.C.C. 13531' '371060' '19952' '364506' '111320' '234360' 'A/S 2816'\n",
            " 'SOTON/O.Q. 3101306' '113792' '36209' '323592' '315089' 'SC/AH Basle 541'\n",
            " '7553' '31027' '3460' '350060' '3101298' '239854' 'A/5 3594' '4134'\n",
            " '11771' 'A.5. 18509' '65304' 'SOTON/OQ 3101317' '113787' 'PC 17609'\n",
            " 'A/4 45380' '36947' 'C.A. 6212' '350035' '315086' '364846' '330909'\n",
            " '4135' '26360' '111427' 'C 4001' '382651' 'SOTON/OQ 3101316' 'PC 17473'\n",
            " 'PC 17603' '349209' '36967' 'C.A. 34260' '226875' '349242' '12749'\n",
            " '349252' '2624' '2700' '367232' 'W./C. 14258' 'PC 17483' '3101296'\n",
            " '29104' '2641' '2690' '315084' '113050' 'PC 17761' '364498' '13568'\n",
            " 'WE/P 5735' '2908' '693' 'SC/PARIS 2146' '244358' '330979' '2620'\n",
            " '347085' '113807' '11755' '345572' '372622' '349251' '218629'\n",
            " 'SOTON/OQ 392082' 'SOTON/O.Q. 392087' 'A/4 48871' '349205' '2686'\n",
            " '350417' 'S.W./PP 752' '11769' 'PC 17474' '14312' 'A/4. 20589' '358585'\n",
            " '243880' '2689' 'STON/O 2. 3101286' '237789' '13049' '3411' '237565'\n",
            " '13567' '14973' 'A./5. 3235' 'STON/O 2. 3101273' 'A/5 3902' '364848'\n",
            " 'SC/AH 29037' '248727' '2664' '349214' '113796' '364511' '111426'\n",
            " '349910' '349246' '113804' 'SOTON/O.Q. 3101305' '370377' '364512'\n",
            " '220845' '31028' '2659' '11753' '350029' '54636' '36963' '219533'\n",
            " '349224' '334912' '27042' '347743' '13214' '112052' '237668'\n",
            " 'STON/O 2. 3101292' '350050' '349231' '13213' 'S.O./P.P. 751' 'CA. 2314'\n",
            " '349221' '8475' '330919' '365226' '349223' '29751' '2623' '5727' '349210'\n",
            " 'STON/O 2. 3101285' '234686' '312993' 'A/5 3536' '19996' '29750'\n",
            " 'F.C. 12750' 'C.A. 24580' '244270' '239856' '349912' '342826' '4138'\n",
            " '330935' '6563' '349228' '350036' '24160' '17474' '349256' '2672'\n",
            " '113800' '248731' '363592' '35852' '348121' 'PC 17475' '36864' '350025'\n",
            " '223596' 'PC 17476' 'PC 17482' '113028' '7545' '250647' '348124' '34218'\n",
            " '36568' '347062' '350048' '12233' '250643' '113806' '315094' '36866'\n",
            " '236853' 'STON/O2. 3101271' '239855' '28425' '233639' '349201' '349218'\n",
            " '16988' '376566' 'STON/O 2. 3101288' '250648' '113773' '335097' '29103'\n",
            " '392096' '345780' '349204' '350042' '29108' '363294' 'SOTON/O2 3101272'\n",
            " '2663' '347074' '112379' '364850' '8471' '345781' '350047' 'S.O./P.P. 3'\n",
            " '2674' '29105' '347078' '383121' '36865' '2687' '113501' 'W./C. 6607'\n",
            " 'SOTON/O.Q. 3101312' '374887' '3101265' '12460' 'PC 17600' '349203'\n",
            " '28213' '17465' '349244' '2685' '2625' '347089' '347063' '112050'\n",
            " '347087' '248723' '3474' '28206' '364499' '112058' 'STON/O2. 3101290'\n",
            " 'S.C./PARIS 2079' 'C 7075' '315098' '19972' '368323' '367228' '2671'\n",
            " '347468' '2223' 'PC 17756' '315097' '392092' '11774' 'SOTON/O2 3101287'\n",
            " '2683' '315090' 'C.A. 5547' '349213' '347060' 'PC 17592' '392091'\n",
            " '113055' '2629' '350026' '28134' '17466' '233866' '236852'\n",
            " 'SC/PARIS 2149' 'PC 17590' '345777' '349248' '695' '345765' '2667'\n",
            " '349212' '349217' '349257' '7552' 'C.A./SOTON 34068' 'SOTON/OQ 392076'\n",
            " '211536' '112053' '111369' '370376']\n",
            "Fare [  7.25    71.2833   7.925   53.1      8.05     8.4583  51.8625  21.075\n",
            "  11.1333  30.0708  16.7     26.55    31.275    7.8542  16.      29.125\n",
            "  13.      18.       7.225   26.       8.0292  35.5     31.3875 263.\n",
            "   7.8792   7.8958  27.7208 146.5208   7.75    10.5     82.1708  52.\n",
            "   7.2292  11.2417   9.475   21.      41.5792  15.5     21.6792  17.8\n",
            "  39.6875   7.8     76.7292  61.9792  27.75    46.9     80.      83.475\n",
            "  27.9     15.2458   8.1583   8.6625  73.5     14.4542  56.4958   7.65\n",
            "  29.      12.475    9.       9.5      7.7875  47.1     15.85    34.375\n",
            "  61.175   20.575   34.6542  63.3583  23.      77.2875   8.6542   7.775\n",
            "  24.15     9.825   14.4583 247.5208   7.1417  22.3583   6.975    7.05\n",
            "  14.5     15.0458  26.2833   9.2167  79.2      6.75    11.5     36.75\n",
            "   7.7958  12.525   66.6      7.3125  61.3792   7.7333  69.55    16.1\n",
            "  15.75    20.525   55.      25.925   33.5     30.6958  25.4667  28.7125\n",
            "   0.      15.05    39.      22.025   50.       8.4042   6.4958  10.4625\n",
            "  18.7875  31.     113.275   27.      76.2917  90.       9.35    13.5\n",
            "   7.55    26.25    12.275    7.125   52.5542  20.2125  86.5    512.3292\n",
            "  79.65   153.4625 135.6333  19.5     29.7     77.9583  20.25    78.85\n",
            "  91.0792  12.875    8.85   151.55    30.5     23.25    12.35   110.8833\n",
            " 108.9     24.      56.9292  83.1583 262.375   14.     164.8667 134.5\n",
            "   6.2375  57.9792  28.5    133.65    15.9      9.225   35.      75.25\n",
            "  69.3     55.4417 211.5      4.0125 227.525   15.7417   7.7292  12.\n",
            " 120.      12.65    18.75     6.8583  32.5      7.875   14.4     55.9\n",
            "   8.1125  81.8583  19.2583  19.9667  89.1042  38.5      7.725   13.7917\n",
            "   9.8375   7.0458   7.5208  12.2875   9.5875  49.5042  78.2667  15.1\n",
            "   7.6292  22.525   26.2875  59.4      7.4958  34.0208  93.5    221.7792\n",
            " 106.425   49.5     71.      13.8625   7.8292  39.6     17.4     51.4792\n",
            "  26.3875  30.      40.125    8.7125  15.      33.      42.4     15.55\n",
            "  65.      32.3208   7.0542   8.4333  25.5875   9.8417   8.1375  10.1708\n",
            " 211.3375  57.      13.4167   7.7417   9.4833   7.7375   8.3625  23.45\n",
            "  25.9292   8.6833   8.5167   7.8875  37.0042   6.45     6.95     8.3\n",
            "   6.4375  39.4     14.1083  13.8583  50.4958   5.       9.8458  10.5167]\n",
            "Cabin ['Unkown' 'C85' 'C123' 'E46' 'G6' 'C103' 'D56' 'A6' 'C23 C25 C27' 'B78'\n",
            " 'D33' 'B30' 'C52' 'B28' 'C83' 'F33' 'F G73' 'E31' 'A5' 'D10 D12' 'D26'\n",
            " 'C110' 'B58 B60' 'E101' 'F E69' 'D47' 'B86' 'F2' 'C2' 'E33' 'B19' 'A7'\n",
            " 'C49' 'F4' 'A32' 'B4' 'B80' 'A31' 'D36' 'D15' 'C93' 'C78' 'D35' 'C87'\n",
            " 'B77' 'E67' 'B94' 'C125' 'C99' 'C118' 'D7' 'A19' 'B49' 'D' 'C22 C26'\n",
            " 'C106' 'C65' 'E36' 'C54' 'B57 B59 B63 B66' 'C7' 'E34' 'C32' 'B18' 'C124'\n",
            " 'C91' 'E40' 'T' 'C128' 'D37' 'B35' 'E50' 'C82' 'B96 B98' 'E10' 'E44'\n",
            " 'A34' 'C104' 'C111' 'C92' 'E38' 'D21' 'E12' 'E63' 'A14' 'B37' 'C30' 'D20'\n",
            " 'B79' 'E25' 'D46' 'B73' 'C95' 'B38' 'B39' 'B22' 'C86' 'C70' 'A16' 'C101'\n",
            " 'C68' 'A10' 'E68' 'B41' 'A20' 'D19' 'D50' 'D9' 'A23' 'B50' 'A26' 'D48'\n",
            " 'E58' 'C126' 'B71' 'B51 B53 B55' 'D49' 'B5' 'B20' 'F G63' 'C62 C64' 'E24'\n",
            " 'C90' 'C45' 'E8' 'B101' 'D45' 'C46' 'D30' 'E121' 'D11' 'E77' 'F38' 'B3'\n",
            " 'D6' 'B82 B84' 'D17' 'A36' 'B102' 'B69' 'E49' 'C47' 'D28' 'E17' 'A24'\n",
            " 'C50' 'B42' 'C148']\n",
            "Embarked ['S' 'C' 'Q' 'Unknown']\n"
          ]
        }
      ]
    },
    {
      "cell_type": "markdown",
      "source": [
        "There are no anomalies detected in the data."
      ],
      "metadata": {
        "id": "87wEsXgxdCU4"
      }
    },
    {
      "cell_type": "code",
      "source": [
        "train_df.columns"
      ],
      "metadata": {
        "colab": {
          "base_uri": "https://localhost:8080/"
        },
        "id": "3rkOp1CXtrBr",
        "outputId": "aefbfe98-f32e-4bbd-bc73-83a1f5f5d1b7"
      },
      "execution_count": 109,
      "outputs": [
        {
          "output_type": "execute_result",
          "data": {
            "text/plain": [
              "Index(['PassengerId', 'Survived', 'Pclass', 'Name', 'Sex', 'Age', 'SibSp',\n",
              "       'Parch', 'Ticket', 'Fare', 'Cabin', 'Embarked'],\n",
              "      dtype='object')"
            ]
          },
          "metadata": {},
          "execution_count": 109
        }
      ]
    },
    {
      "cell_type": "code",
      "source": [
        "train_df.info()"
      ],
      "metadata": {
        "colab": {
          "base_uri": "https://localhost:8080/"
        },
        "id": "1LOGQlxDt3cS",
        "outputId": "a2db48e6-1435-4abd-811b-7574ab72c03a"
      },
      "execution_count": 110,
      "outputs": [
        {
          "output_type": "stream",
          "name": "stdout",
          "text": [
            "<class 'pandas.core.frame.DataFrame'>\n",
            "RangeIndex: 891 entries, 0 to 890\n",
            "Data columns (total 12 columns):\n",
            " #   Column       Non-Null Count  Dtype  \n",
            "---  ------       --------------  -----  \n",
            " 0   PassengerId  891 non-null    int64  \n",
            " 1   Survived     891 non-null    int64  \n",
            " 2   Pclass       891 non-null    int64  \n",
            " 3   Name         891 non-null    object \n",
            " 4   Sex          891 non-null    object \n",
            " 5   Age          891 non-null    float64\n",
            " 6   SibSp        891 non-null    int64  \n",
            " 7   Parch        891 non-null    int64  \n",
            " 8   Ticket       891 non-null    object \n",
            " 9   Fare         891 non-null    float64\n",
            " 10  Cabin        891 non-null    object \n",
            " 11  Embarked     891 non-null    object \n",
            "dtypes: float64(2), int64(5), object(5)\n",
            "memory usage: 83.7+ KB\n"
          ]
        }
      ]
    },
    {
      "cell_type": "code",
      "source": [
        "# Checking for Outliers\n",
        "df = train_df[['PassengerId', 'Survived', 'Pclass', 'Age', 'SibSp',\n",
        "       'Parch', 'Fare']]\n",
        "for i in df:\n",
        "  plt.figure(figsize=(24,20))\n",
        "  plt.subplot(4, 2, 1)\n",
        "  fig = df.boxplot(column=i)\n",
        "  fig.set_title('Outliers')\n",
        "  fig.set_ylabel(i)\n"
      ],
      "metadata": {
        "id": "aXz4wnkaG0nX",
        "colab": {
          "base_uri": "https://localhost:8080/",
          "height": 1000
        },
        "outputId": "ef6b7829-ff3a-43fa-9000-6e972cb37ab9"
      },
      "execution_count": 111,
      "outputs": [
        {
          "output_type": "display_data",
          "data": {
            "image/png": "[encoded data removed]",
            "text/plain": [
              "<Figure size 1728x1440 with 1 Axes>"
            ]
          },
          "metadata": {
            "needs_background": "light"
          }
        },
        {
          "output_type": "display_data",
          "data": {
            "image/png": "[encoded data removed]",
            "text/plain": [
              "<Figure size 1728x1440 with 1 Axes>"
            ]
          },
          "metadata": {
            "needs_background": "light"
          }
        },
        {
          "output_type": "display_data",
          "data": {
            "image/png": "[encoded data removed]",
            "text/plain": [
              "<Figure size 1728x1440 with 1 Axes>"
            ]
          },
          "metadata": {
            "needs_background": "light"
          }
        },
        {
          "output_type": "display_data",
          "data": {
            "image/png": "[encoded data removed]",
            "text/plain": [
              "<Figure size 1728x1440 with 1 Axes>"
            ]
          },
          "metadata": {
            "needs_background": "light"
          }
        },
        {
          "output_type": "display_data",
          "data": {
            "image/png": "[encoded data removed]",
            "text/plain": [
              "<Figure size 1728x1440 with 1 Axes>"
            ]
          },
          "metadata": {
            "needs_background": "light"
          }
        },
        {
          "output_type": "display_data",
          "data": {
            "image/png": "[encoded data removed]",
            "text/plain": [
              "<Figure size 1728x1440 with 1 Axes>"
            ]
          },
          "metadata": {
            "needs_background": "light"
          }
        },
        {
          "output_type": "display_data",
          "data": {
            "image/png": "[encoded data removed]",
            "text/plain": [
              "<Figure size 1728x1440 with 1 Axes>"
            ]
          },
          "metadata": {
            "needs_background": "light"
          }
        }
      ]
    },
    {
      "cell_type": "markdown",
      "source": [
        "## 6. Exploratory Analysis"
      ],
      "metadata": {
        "id": "xhDHtTkOH0dh"
      }
    },
    {
      "cell_type": "markdown",
      "source": [
        "Univariate analysis"
      ],
      "metadata": {
        "id": "oeVMcsASrPdU"
      }
    },
    {
      "cell_type": "code",
      "source": [
        "train_df.columns"
      ],
      "metadata": {
        "colab": {
          "base_uri": "https://localhost:8080/"
        },
        "id": "_580ct7-vxuq",
        "outputId": "eb6e7de3-02c8-4018-8c20-dd0ec49eb05c"
      },
      "execution_count": 112,
      "outputs": [
        {
          "output_type": "execute_result",
          "data": {
            "text/plain": [
              "Index(['PassengerId', 'Survived', 'Pclass', 'Name', 'Sex', 'Age', 'SibSp',\n",
              "       'Parch', 'Ticket', 'Fare', 'Cabin', 'Embarked'],\n",
              "      dtype='object')"
            ]
          },
          "metadata": {},
          "execution_count": 112
        }
      ]
    },
    {
      "cell_type": "code",
      "source": [
        "df = train_df[['Survived', 'Pclass', 'Sex', 'SibSp',\n",
        "       'Parch', 'Ticket', 'Cabin', 'Embarked']]\n",
        "for a in df:\n",
        "  f, ax = plt.subplots(1,1,figsize=(10, 6))\n",
        "  sns.countplot(x=a, hue='Survived', data=train_df, ax=None)"
      ],
      "metadata": {
        "colab": {
          "base_uri": "https://localhost:8080/",
          "height": 1000
        },
        "id": "OgYGitamu-kW",
        "outputId": "f4e6b614-c923-4b3c-c838-7a9c445a4b6e"
      },
      "execution_count": 117,
      "outputs": [
        {
          "output_type": "display_data",
          "data": {
            "image/png": "[encoded data removed]",
            "text/plain": [
              "<Figure size 720x432 with 1 Axes>"
            ]
          },
          "metadata": {
            "needs_background": "light"
          }
        },
        {
          "output_type": "display_data",
          "data": {
            "image/png": "[encoded data removed]",
            "text/plain": [
              "<Figure size 720x432 with 1 Axes>"
            ]
          },
          "metadata": {
            "needs_background": "light"
          }
        },
        {
          "output_type": "display_data",
          "data": {
            "image/png": "[encoded data removed]",
            "text/plain": [
              "<Figure size 720x432 with 1 Axes>"
            ]
          },
          "metadata": {
            "needs_background": "light"
          }
        },
        {
          "output_type": "display_data",
          "data": {
            "image/png": "[encoded data removed]",
            "text/plain": [
              "<Figure size 720x432 with 1 Axes>"
            ]
          },
          "metadata": {
            "needs_background": "light"
          }
        },
        {
          "output_type": "display_data",
          "data": {
            "image/png": "[encoded data removed]",
            "text/plain": [
              "<Figure size 720x432 with 1 Axes>"
            ]
          },
          "metadata": {
            "needs_background": "light"
          }
        },
        {
          "output_type": "display_data",
          "data": {
            "image/png": "[encoded data removed]",
            "text/plain": [
              "<Figure size 720x432 with 1 Axes>"
            ]
          },
          "metadata": {
            "needs_background": "light"
          }
        },
        {
          "output_type": "display_data",
          "data": {
            "image/png": "[encoded data removed]",
            "text/plain": [
              "<Figure size 720x432 with 1 Axes>"
            ]
          },
          "metadata": {
            "needs_background": "light"
          }
        },
        {
          "output_type": "display_data",
          "data": {
            "image/png": "[encoded data removed]",
            "text/plain": [
              "<Figure size 720x432 with 1 Axes>"
            ]
          },
          "metadata": {
            "needs_background": "light"
          }
        }
      ]
    },
    {
      "cell_type": "markdown",
      "source": [
        "The above graphs show the frequencies of different features and their survival tendencies."
      ],
      "metadata": {
        "id": "D769BSPtmBZM"
      }
    },
    {
      "cell_type": "markdown",
      "source": [
        "## Implementing the solution"
      ],
      "metadata": {
        "id": "MWSGmPSp-mpu"
      }
    },
    {
      "cell_type": "code",
      "source": [
        "# converting sex column datatype to 'category' and assigning it to another column\n",
        "train_df['Sex_Cat'] = train_df['Sex'].astype('category').cat.codes\n",
        "train_df.head()"
      ],
      "metadata": {
        "colab": {
          "base_uri": "https://localhost:8080/",
          "height": 206
        },
        "id": "fU76dRyM08sF",
        "outputId": "1a7fbdfc-29a1-4577-db0f-dfdfc534944b"
      },
      "execution_count": 118,
      "outputs": [
        {
          "output_type": "execute_result",
          "data": {
            "text/html": [
              "\n",
              "  <div id=\"df-25c3a7a0-673a-4cc6-8938-6f7d355c087b\">\n",
              "    <div class=\"colab-df-container\">\n",
              "      <div>\n",
              "<style scoped>\n",
              "    .dataframe tbody tr th:only-of-type {\n",
              "        vertical-align: middle;\n",
              "    }\n",
              "\n",
              "    .dataframe tbody tr th {\n",
              "        vertical-align: top;\n",
              "    }\n",
              "\n",
              "    .dataframe thead th {\n",
              "        text-align: right;\n",
              "    }\n",
              "</style>\n",
              "<table border=\"1\" class=\"dataframe\">\n",
              "  <thead>\n",
              "    <tr style=\"text-align: right;\">\n",
              "      <th></th>\n",
              "      <th>PassengerId</th>\n",
              "      <th>Survived</th>\n",
              "      <th>Pclass</th>\n",
              "      <th>Name</th>\n",
              "      <th>Sex</th>\n",
              "      <th>Age</th>\n",
              "      <th>SibSp</th>\n",
              "      <th>Parch</th>\n",
              "      <th>Ticket</th>\n",
              "      <th>Fare</th>\n",
              "      <th>Cabin</th>\n",
              "      <th>Embarked</th>\n",
              "      <th>Sex_Cat</th>\n",
              "    </tr>\n",
              "  </thead>\n",
              "  <tbody>\n",
              "    <tr>\n",
              "      <th>0</th>\n",
              "      <td>1</td>\n",
              "      <td>0</td>\n",
              "      <td>3</td>\n",
              "      <td>Braund, Mr. Owen Harris</td>\n",
              "      <td>male</td>\n",
              "      <td>22.0</td>\n",
              "      <td>1</td>\n",
              "      <td>0</td>\n",
              "      <td>A/5 21171</td>\n",
              "      <td>7.2500</td>\n",
              "      <td>Unkown</td>\n",
              "      <td>S</td>\n",
              "      <td>1</td>\n",
              "    </tr>\n",
              "    <tr>\n",
              "      <th>1</th>\n",
              "      <td>2</td>\n",
              "      <td>1</td>\n",
              "      <td>1</td>\n",
              "      <td>Cumings, Mrs. John Bradley (Florence Briggs Th...</td>\n",
              "      <td>female</td>\n",
              "      <td>38.0</td>\n",
              "      <td>1</td>\n",
              "      <td>0</td>\n",
              "      <td>PC 17599</td>\n",
              "      <td>71.2833</td>\n",
              "      <td>C85</td>\n",
              "      <td>C</td>\n",
              "      <td>0</td>\n",
              "    </tr>\n",
              "    <tr>\n",
              "      <th>2</th>\n",
              "      <td>3</td>\n",
              "      <td>1</td>\n",
              "      <td>3</td>\n",
              "      <td>Heikkinen, Miss. Laina</td>\n",
              "      <td>female</td>\n",
              "      <td>26.0</td>\n",
              "      <td>0</td>\n",
              "      <td>0</td>\n",
              "      <td>STON/O2. 3101282</td>\n",
              "      <td>7.9250</td>\n",
              "      <td>Unkown</td>\n",
              "      <td>S</td>\n",
              "      <td>0</td>\n",
              "    </tr>\n",
              "    <tr>\n",
              "      <th>3</th>\n",
              "      <td>4</td>\n",
              "      <td>1</td>\n",
              "      <td>1</td>\n",
              "      <td>Futrelle, Mrs. Jacques Heath (Lily May Peel)</td>\n",
              "      <td>female</td>\n",
              "      <td>35.0</td>\n",
              "      <td>1</td>\n",
              "      <td>0</td>\n",
              "      <td>113803</td>\n",
              "      <td>53.1000</td>\n",
              "      <td>C123</td>\n",
              "      <td>S</td>\n",
              "      <td>0</td>\n",
              "    </tr>\n",
              "    <tr>\n",
              "      <th>4</th>\n",
              "      <td>5</td>\n",
              "      <td>0</td>\n",
              "      <td>3</td>\n",
              "      <td>Allen, Mr. William Henry</td>\n",
              "      <td>male</td>\n",
              "      <td>35.0</td>\n",
              "      <td>0</td>\n",
              "      <td>0</td>\n",
              "      <td>373450</td>\n",
              "      <td>8.0500</td>\n",
              "      <td>Unkown</td>\n",
              "      <td>S</td>\n",
              "      <td>1</td>\n",
              "    </tr>\n",
              "  </tbody>\n",
              "</table>\n",
              "</div>\n",
              "      <button class=\"colab-df-convert\" onclick=\"convertToInteractive('df-25c3a7a0-673a-4cc6-8938-6f7d355c087b')\"\n",
              "              title=\"Convert this dataframe to an interactive table.\"\n",
              "              style=\"display:none;\">\n",
              "        \n",
              "  <svg xmlns=\"http://www.w3.org/2000/svg\" height=\"24px\"viewBox=\"0 0 24 24\"\n",
              "       width=\"24px\">\n",
              "    <path d=\"M0 0h24v24H0V0z\" fill=\"none\"/>\n",
              "    <path d=\"M18.56 5.44l.94 2.06.94-2.06 2.06-.94-2.06-.94-.94-2.06-.94 2.06-2.06.94zm-11 1L8.5 8.5l.94-2.06 2.06-.94-2.06-.94L8.5 2.5l-.94 2.06-2.06.94zm10 10l.94 2.06.94-2.06 2.06-.94-2.06-.94-.94-2.06-.94 2.06-2.06.94z\"/><path d=\"M17.41 7.96l-1.37-1.37c-.4-.4-.92-.59-1.43-.59-.52 0-1.04.2-1.43.59L10.3 9.45l-7.72 7.72c-.78.78-.78 2.05 0 2.83L4 21.41c.39.39.9.59 1.41.59.51 0 1.02-.2 1.41-.59l7.78-7.78 2.81-2.81c.8-.78.8-2.07 0-2.86zM5.41 20L4 18.59l7.72-7.72 1.47 1.35L5.41 20z\"/>\n",
              "  </svg>\n",
              "      </button>\n",
              "      \n",
              "  <style>\n",
              "    .colab-df-container {\n",
              "      display:flex;\n",
              "      flex-wrap:wrap;\n",
              "      gap: 12px;\n",
              "    }\n",
              "\n",
              "    .colab-df-convert {\n",
              "      background-color: #E8F0FE;\n",
              "      border: none;\n",
              "      border-radius: 50%;\n",
              "      cursor: pointer;\n",
              "      display: none;\n",
              "      fill: #1967D2;\n",
              "      height: 32px;\n",
              "      padding: 0 0 0 0;\n",
              "      width: 32px;\n",
              "    }\n",
              "\n",
              "    .colab-df-convert:hover {\n",
              "      background-color: #E2EBFA;\n",
              "      box-shadow: 0px 1px 2px rgba(60, 64, 67, 0.3), 0px 1px 3px 1px rgba(60, 64, 67, 0.15);\n",
              "      fill: #174EA6;\n",
              "    }\n",
              "\n",
              "    [theme=dark] .colab-df-convert {\n",
              "      background-color: #3B4455;\n",
              "      fill: #D2E3FC;\n",
              "    }\n",
              "\n",
              "    [theme=dark] .colab-df-convert:hover {\n",
              "      background-color: #434B5C;\n",
              "      box-shadow: 0px 1px 3px 1px rgba(0, 0, 0, 0.15);\n",
              "      filter: drop-shadow(0px 1px 2px rgba(0, 0, 0, 0.3));\n",
              "      fill: #FFFFFF;\n",
              "    }\n",
              "  </style>\n",
              "\n",
              "      <script>\n",
              "        const buttonEl =\n",
              "          document.querySelector('#df-25c3a7a0-673a-4cc6-8938-6f7d355c087b button.colab-df-convert');\n",
              "        buttonEl.style.display =\n",
              "          google.colab.kernel.accessAllowed ? 'block' : 'none';\n",
              "\n",
              "        async function convertToInteractive(key) {\n",
              "          const element = document.querySelector('#df-25c3a7a0-673a-4cc6-8938-6f7d355c087b');\n",
              "          const dataTable =\n",
              "            await google.colab.kernel.invokeFunction('convertToInteractive',\n",
              "                                                     [key], {});\n",
              "          if (!dataTable) return;\n",
              "\n",
              "          const docLinkHtml = 'Like what you see? Visit the ' +\n",
              "            '<a target=\"_blank\" href=https://colab.research.google.com/notebooks/data_table.ipynb>data table notebook</a>'\n",
              "            + ' to learn more about interactive tables.';\n",
              "          element.innerHTML = '';\n",
              "          dataTable['output_type'] = 'display_data';\n",
              "          await google.colab.output.renderOutput(dataTable, element);\n",
              "          const docLink = document.createElement('div');\n",
              "          docLink.innerHTML = docLinkHtml;\n",
              "          element.appendChild(docLink);\n",
              "        }\n",
              "      </script>\n",
              "    </div>\n",
              "  </div>\n",
              "  "
            ],
            "text/plain": [
              "   PassengerId  Survived  Pclass  ...   Cabin Embarked  Sex_Cat\n",
              "0            1         0       3  ...  Unkown        S        1\n",
              "1            2         1       1  ...     C85        C        0\n",
              "2            3         1       3  ...  Unkown        S        0\n",
              "3            4         1       1  ...    C123        S        0\n",
              "4            5         0       3  ...  Unkown        S        1\n",
              "\n",
              "[5 rows x 13 columns]"
            ]
          },
          "metadata": {},
          "execution_count": 118
        }
      ]
    },
    {
      "cell_type": "code",
      "source": [
        "train_df.columns"
      ],
      "metadata": {
        "colab": {
          "base_uri": "https://localhost:8080/"
        },
        "id": "P5iGQ1T-1uOI",
        "outputId": "16d11a80-4120-442e-8f4f-733ecd069594"
      },
      "execution_count": 119,
      "outputs": [
        {
          "output_type": "execute_result",
          "data": {
            "text/plain": [
              "Index(['PassengerId', 'Survived', 'Pclass', 'Name', 'Sex', 'Age', 'SibSp',\n",
              "       'Parch', 'Ticket', 'Fare', 'Cabin', 'Embarked', 'Sex_Cat'],\n",
              "      dtype='object')"
            ]
          },
          "metadata": {},
          "execution_count": 119
        }
      ]
    },
    {
      "cell_type": "code",
      "source": [
        "train_df.info()"
      ],
      "metadata": {
        "colab": {
          "base_uri": "https://localhost:8080/"
        },
        "id": "qbIWLbh85IVB",
        "outputId": "8bd41dd1-a1a1-431c-9379-e56b82625f64"
      },
      "execution_count": 121,
      "outputs": [
        {
          "output_type": "stream",
          "name": "stdout",
          "text": [
            "<class 'pandas.core.frame.DataFrame'>\n",
            "RangeIndex: 891 entries, 0 to 890\n",
            "Data columns (total 13 columns):\n",
            " #   Column       Non-Null Count  Dtype  \n",
            "---  ------       --------------  -----  \n",
            " 0   PassengerId  891 non-null    int64  \n",
            " 1   Survived     891 non-null    int64  \n",
            " 2   Pclass       891 non-null    int64  \n",
            " 3   Name         891 non-null    object \n",
            " 4   Sex          891 non-null    object \n",
            " 5   Age          891 non-null    float64\n",
            " 6   SibSp        891 non-null    int64  \n",
            " 7   Parch        891 non-null    int64  \n",
            " 8   Ticket       891 non-null    object \n",
            " 9   Fare         891 non-null    float64\n",
            " 10  Cabin        891 non-null    object \n",
            " 11  Embarked     891 non-null    object \n",
            " 12  Sex_Cat      891 non-null    int8   \n",
            "dtypes: float64(2), int64(5), int8(1), object(5)\n",
            "memory usage: 84.5+ KB\n"
          ]
        }
      ]
    },
    {
      "cell_type": "code",
      "source": [
        "# Import libaries\n",
        "from sklearn.model_selection import train_test_split\n",
        "from sklearn.preprocessing import StandardScaler\n",
        "from sklearn.metrics import accuracy_score\n",
        "from sklearn.metrics import classification_report, confusion_matrix\n",
        "\n",
        "x = train_df[['PassengerId','Pclass', 'Age', 'SibSp',\n",
        "       'Parch', 'Fare', 'Sex_Cat']]\n",
        "y = train_df['Survived']\n",
        "# splitting dataset\n",
        "x_train,x_test,y_train,y_test = train_test_split(x,y,test_size=0.2,random_state=0)\n",
        "\n",
        "ss = StandardScaler()\n",
        "ss.fit(x_train)\n",
        "x_train = ss.transform(x_train)\n",
        "x_test = ss.transform(x_test)"
      ],
      "metadata": {
        "id": "lGpnT1GZ-qV2"
      },
      "execution_count": 141,
      "outputs": []
    },
    {
      "cell_type": "code",
      "source": [
        "# Training our model\n",
        "from sklearn.neighbors import KNeighborsClassifier\n",
        "knn = KNeighborsClassifier(n_neighbors=5)\n",
        "knn.fit(x_train, y_train)"
      ],
      "metadata": {
        "id": "xb4TCdJIBIMk",
        "colab": {
          "base_uri": "https://localhost:8080/"
        },
        "outputId": "3bc6682d-9dfd-4638-960a-0956e58402d0"
      },
      "execution_count": 142,
      "outputs": [
        {
          "output_type": "execute_result",
          "data": {
            "text/plain": [
              "KNeighborsClassifier()"
            ]
          },
          "metadata": {},
          "execution_count": 142
        }
      ]
    },
    {
      "cell_type": "code",
      "source": [
        "# make predictions on our test data\n",
        "y_pred = knn.predict(x_test)"
      ],
      "metadata": {
        "id": "D81GaS40MWPW"
      },
      "execution_count": 143,
      "outputs": []
    },
    {
      "cell_type": "code",
      "source": [
        "print(accuracy_score(y_test,y_pred))"
      ],
      "metadata": {
        "colab": {
          "base_uri": "https://localhost:8080/"
        },
        "id": "dbKZYHHAAgRX",
        "outputId": "9639eb1f-0b61-4b5f-c597-2b87bb15e047"
      },
      "execution_count": 128,
      "outputs": [
        {
          "output_type": "stream",
          "name": "stdout",
          "text": [
            "0.8212290502793296\n"
          ]
        }
      ]
    },
    {
      "cell_type": "markdown",
      "source": [
        "The model correctly classifies a passenger as survivor or not 82.12% of the time according to the accuracy score."
      ],
      "metadata": {
        "id": "VO7VfGGwDqYU"
      }
    },
    {
      "cell_type": "code",
      "source": [
        "from sklearn.metrics import classification_report, confusion_matrix\n",
        "print(confusion_matrix(y_test, y_pred))\n",
        "print(classification_report(y_test, y_pred))"
      ],
      "metadata": {
        "colab": {
          "base_uri": "https://localhost:8080/"
        },
        "id": "RyBfdDMGDkhr",
        "outputId": "0ffab461-3bcd-4002-911e-100c92160e03"
      },
      "execution_count": 144,
      "outputs": [
        {
          "output_type": "stream",
          "name": "stdout",
          "text": [
            "[[97 13]\n",
            " [19 50]]\n",
            "              precision    recall  f1-score   support\n",
            "\n",
            "           0       0.84      0.88      0.86       110\n",
            "           1       0.79      0.72      0.76        69\n",
            "\n",
            "    accuracy                           0.82       179\n",
            "   macro avg       0.81      0.80      0.81       179\n",
            "weighted avg       0.82      0.82      0.82       179\n",
            "\n"
          ]
        }
      ]
    },
    {
      "cell_type": "code",
      "source": [
        "# repeating model building with different splitting percentages\n",
        "# 70-30\n",
        "x_train,x_test,y_train,y_test = train_test_split(x,y,test_size=0.3,random_state=0)"
      ],
      "metadata": {
        "id": "SgbzP6ylD1hd"
      },
      "execution_count": 145,
      "outputs": []
    },
    {
      "cell_type": "code",
      "source": [
        "# Training our model\n",
        "from sklearn.neighbors import KNeighborsClassifier\n",
        "knn = KNeighborsClassifier(n_neighbors=5)\n",
        "knn.fit(x_train, y_train)"
      ],
      "metadata": {
        "id": "mmHAMY3zI3VU",
        "colab": {
          "base_uri": "https://localhost:8080/"
        },
        "outputId": "0b83ba33-7f5e-43b5-ebb1-54d5e2ba41c8"
      },
      "execution_count": 146,
      "outputs": [
        {
          "output_type": "execute_result",
          "data": {
            "text/plain": [
              "KNeighborsClassifier()"
            ]
          },
          "metadata": {},
          "execution_count": 146
        }
      ]
    },
    {
      "cell_type": "code",
      "source": [
        "# make predictions on our test data\n",
        "y_pred = knn.predict(x_test)"
      ],
      "metadata": {
        "id": "7pl1M16TM1qI"
      },
      "execution_count": 147,
      "outputs": []
    },
    {
      "cell_type": "code",
      "source": [
        "print(accuracy_score(y_test,y_pred))\n",
        "print(confusion_matrix(y_test, y_pred))\n",
        "print(classification_report(y_test, y_pred))"
      ],
      "metadata": {
        "colab": {
          "base_uri": "https://localhost:8080/"
        },
        "id": "MZ7XkiFDI6eB",
        "outputId": "2089fa78-777a-4776-bb52-d251b5439c57"
      },
      "execution_count": 148,
      "outputs": [
        {
          "output_type": "stream",
          "name": "stdout",
          "text": [
            "0.5970149253731343\n",
            "[[129  39]\n",
            " [ 69  31]]\n",
            "              precision    recall  f1-score   support\n",
            "\n",
            "           0       0.65      0.77      0.70       168\n",
            "           1       0.44      0.31      0.36       100\n",
            "\n",
            "    accuracy                           0.60       268\n",
            "   macro avg       0.55      0.54      0.53       268\n",
            "weighted avg       0.57      0.60      0.58       268\n",
            "\n"
          ]
        }
      ]
    },
    {
      "cell_type": "markdown",
      "source": [
        "Accuracy has gone down by over 20%"
      ],
      "metadata": {
        "id": "iDVmkiL78wiS"
      }
    },
    {
      "cell_type": "code",
      "source": [
        "# 60-40\n",
        "x_train,x_test,y_train,y_test = train_test_split(x,y,test_size=0.4,random_state=0)"
      ],
      "metadata": {
        "id": "MRUuIfPnJBC9"
      },
      "execution_count": 152,
      "outputs": []
    },
    {
      "cell_type": "code",
      "source": [
        "# Training our model\n",
        "from sklearn.neighbors import KNeighborsClassifier\n",
        "knn = KNeighborsClassifier(n_neighbors=5)\n",
        "knn.fit(x_train, y_train)"
      ],
      "metadata": {
        "id": "hjbgx3U0JLOk",
        "colab": {
          "base_uri": "https://localhost:8080/"
        },
        "outputId": "cbb8e12c-8a81-432d-e567-be24dd13aebe"
      },
      "execution_count": 153,
      "outputs": [
        {
          "output_type": "execute_result",
          "data": {
            "text/plain": [
              "KNeighborsClassifier()"
            ]
          },
          "metadata": {},
          "execution_count": 153
        }
      ]
    },
    {
      "cell_type": "code",
      "source": [
        "# make predictions on our test data\n",
        "y_pred = knn.predict(x_test)"
      ],
      "metadata": {
        "id": "FqUtZLP9PDKw"
      },
      "execution_count": 154,
      "outputs": []
    },
    {
      "cell_type": "code",
      "source": [
        "print(accuracy_score(y_test,y_pred))\n",
        "print(confusion_matrix(y_test, y_pred))\n",
        "print(classification_report(y_test, y_pred))"
      ],
      "metadata": {
        "colab": {
          "base_uri": "https://localhost:8080/"
        },
        "id": "U4CQPkogJN2a",
        "outputId": "662bedca-296d-483d-d950-55843d3105a9"
      },
      "execution_count": 155,
      "outputs": [
        {
          "output_type": "stream",
          "name": "stdout",
          "text": [
            "0.6330532212885154\n",
            "[[180  41]\n",
            " [ 90  46]]\n",
            "              precision    recall  f1-score   support\n",
            "\n",
            "           0       0.67      0.81      0.73       221\n",
            "           1       0.53      0.34      0.41       136\n",
            "\n",
            "    accuracy                           0.63       357\n",
            "   macro avg       0.60      0.58      0.57       357\n",
            "weighted avg       0.61      0.63      0.61       357\n",
            "\n"
          ]
        }
      ]
    },
    {
      "cell_type": "markdown",
      "source": [
        "Notice that the model's accuracy slightly increases with an increase in the test data."
      ],
      "metadata": {
        "id": "Fn1LkjyQJWTo"
      }
    },
    {
      "cell_type": "markdown",
      "source": [
        "## Optimization using LDA"
      ],
      "metadata": {
        "id": "IyLXbmv2VL2f"
      }
    },
    {
      "cell_type": "code",
      "source": [
        "from sklearn.discriminant_analysis import LinearDiscriminantAnalysis as LDA\n",
        "lda = LDA(n_components=1)\n",
        "X_train = lda.fit_transform(x_train, y_train)\n",
        "X_test = lda.transform(x_test)"
      ],
      "metadata": {
        "id": "b91gPLo7VLYg"
      },
      "execution_count": 156,
      "outputs": []
    },
    {
      "cell_type": "code",
      "source": [
        "# splitting dataset\n",
        "x_train,x_test,y_train,y_test = train_test_split(x,y,test_size=0.2,random_state=0)"
      ],
      "metadata": {
        "id": "R5j2UqVAV3Y7"
      },
      "execution_count": 157,
      "outputs": []
    },
    {
      "cell_type": "code",
      "source": [
        "# Training our model\n",
        "from sklearn.neighbors import KNeighborsClassifier\n",
        "knn = KNeighborsClassifier(n_neighbors=5)\n",
        "knn.fit(x_train, y_train)"
      ],
      "metadata": {
        "id": "RHpnCIpMWJUn",
        "colab": {
          "base_uri": "https://localhost:8080/"
        },
        "outputId": "8a0087eb-f97f-4215-c087-44d8183359c0"
      },
      "execution_count": 159,
      "outputs": [
        {
          "output_type": "execute_result",
          "data": {
            "text/plain": [
              "KNeighborsClassifier()"
            ]
          },
          "metadata": {},
          "execution_count": 159
        }
      ]
    },
    {
      "cell_type": "code",
      "source": [
        "# predicting\n",
        "y_pred = knn.predict(x_test)"
      ],
      "metadata": {
        "id": "1B2qWlNoWMzP"
      },
      "execution_count": 160,
      "outputs": []
    },
    {
      "cell_type": "code",
      "source": [
        "print(accuracy_score(y_test,y_pred))\n",
        "print(confusion_matrix(y_test, y_pred))\n",
        "print(classification_report(y_test, y_pred))"
      ],
      "metadata": {
        "colab": {
          "base_uri": "https://localhost:8080/"
        },
        "id": "yuVN4odMWTwj",
        "outputId": "a70c6caf-79a2-4dc4-97e5-65d81dbb8414"
      },
      "execution_count": 161,
      "outputs": [
        {
          "output_type": "stream",
          "name": "stdout",
          "text": [
            "0.6368715083798883\n",
            "[[89 21]\n",
            " [44 25]]\n",
            "              precision    recall  f1-score   support\n",
            "\n",
            "           0       0.67      0.81      0.73       110\n",
            "           1       0.54      0.36      0.43        69\n",
            "\n",
            "    accuracy                           0.64       179\n",
            "   macro avg       0.61      0.59      0.58       179\n",
            "weighted avg       0.62      0.64      0.62       179\n",
            "\n"
          ]
        }
      ]
    },
    {
      "cell_type": "markdown",
      "source": [
        "The performance decreases to 64% compared to the first model's accuracy of 82%"
      ],
      "metadata": {
        "id": "uO1xPnAbWaB6"
      }
    },
    {
      "cell_type": "markdown",
      "source": [
        "The best decision would be to use the initial model that offers the best perfromance"
      ],
      "metadata": {
        "id": "owfb0XC4--ct"
      }
    }
  ]
}